{
 "cells": [
  {
   "cell_type": "markdown",
   "metadata": {},
   "source": [
    "# Semantic analysis of sexism in French Rap using word embeddings\n",
    "\n",
    "Natural Language Processing for the Social Sciences\n",
    "\n",
    "Matteo Larrode, MSc Social Data Science"
   ]
  },
  {
   "cell_type": "markdown",
   "metadata": {},
   "source": [
    "## Setup"
   ]
  },
  {
   "cell_type": "code",
   "execution_count": 5,
   "metadata": {},
   "outputs": [],
   "source": [
    "import json\n",
    "import pandas as pd\n",
    "import requests\n",
    "from tqdm import tqdm\n",
    "\n",
    "# Data is from 2024 ACL-SRW paper \"A Computational Analysis and Exploration of Linguistic Borrowings in French Rap Lyrics\" by Lucas Zurbuchen and Rob Voigt.\n",
    "# Paper: https://aclanthology.org/2024.acl-srw.27.pdf\n",
    "# Source: https://github.com/ljz112/CLResearch/tree/main/dataEntries"
   ]
  },
  {
   "cell_type": "code",
   "execution_count": 6,
   "metadata": {},
   "outputs": [
    {
     "name": "stdout",
     "output_type": "stream",
     "text": [
      "Downloading old songs data...\n",
      "Downloading new songs data...\n",
      "Data downloaded successfully.\n"
     ]
    }
   ],
   "source": [
    "# URLs for the data\n",
    "old_songs_url = \"https://raw.githubusercontent.com/ljz112/CLResearch/refs/heads/main/dataEntries/frenchDataOldSongs.json\"\n",
    "new_songs_url = \"https://raw.githubusercontent.com/ljz112/CLResearch/refs/heads/main/dataEntries/frenchDataNew.json\"\n",
    "\n",
    "# Download the data\n",
    "print(\"Downloading old songs data...\")\n",
    "old_songs_response = requests.get(old_songs_url)\n",
    "data_old = json.loads(old_songs_response.text)\n",
    "print(\"Downloading new songs data...\")\n",
    "new_songs_response = requests.get(new_songs_url)\n",
    "data_new = json.loads(new_songs_response.text)\n",
    "print(\"Data downloaded successfully.\")"
   ]
  },
  {
   "cell_type": "code",
   "execution_count": null,
   "metadata": {},
   "outputs": [],
   "source": [
    "# Create DataFrames\n",
    "old_songs_df = pd.DataFrame(data_old['allSongs'])\n",
    "old_artists_df = pd.DataFrame(data_old['allArtists'])\n",
    "\n",
    "new_songs_df = pd.DataFrame(data_new['allSongs'])\n",
    "new_artists_df = pd.DataFrame(data_new['allArtists'])\n",
    "\n",
    "# Combine the DataFrames\n",
    "all_songs_df = pd.concat([old_songs_df, new_songs_df], ignore_index=True)\n",
    "all_artists_df = pd.concat([old_artists_df, new_artists_df], ignore_index=True)\n",
    "\n",
    "# Save the DataFrames to CSV files\n",
    "all_songs_df.to_csv(\"data/french_rap_songs.csv\", index=False)\n",
    "all_artists_df.to_csv(\"data/french_rap_artists.csv\", index=False)"
   ]
  }
 ],
 "metadata": {
  "kernelspec": {
   "display_name": "nlp-summative",
   "language": "python",
   "name": "python3"
  },
  "language_info": {
   "codemirror_mode": {
    "name": "ipython",
    "version": 3
   },
   "file_extension": ".py",
   "mimetype": "text/x-python",
   "name": "python",
   "nbconvert_exporter": "python",
   "pygments_lexer": "ipython3",
   "version": "3.10.16"
  }
 },
 "nbformat": 4,
 "nbformat_minor": 2
}
