{
 "cells": [
  {
   "cell_type": "markdown",
   "metadata": {},
   "source": [
    "# Semantic analysis of sexism in French Rap using word embeddings\n",
    "\n",
    "Natural Language Processing for the Social Sciences\n",
    "\n",
    "Matteo Larrode, MSc Social Data Science"
   ]
  },
  {
   "cell_type": "markdown",
   "metadata": {},
   "source": [
    "## Setup"
   ]
  },
  {
   "cell_type": "code",
   "execution_count": 5,
   "metadata": {},
   "outputs": [],
   "source": [
    "%load_ext autoreload\n",
    "%autoreload 2"
   ]
  },
  {
   "cell_type": "code",
   "execution_count": null,
   "metadata": {},
   "outputs": [],
   "source": [
    "# Data is from 2024 ACL-SRW paper \"A Computational Analysis and Exploration of Linguistic Borrowings in French Rap Lyrics\" by Lucas Zurbuchen and Rob Voigt.\n",
    "# Paper: https://aclanthology.org/2024.acl-srw.27.pdf\n",
    "# Source: https://github.com/ljz112/CLResearch/tree/main/dataEntries\n",
    "\n",
    "# Download the data from the GitHub repository & create csv files:\n",
    "# python3 data_setup.py\n",
    "# Or to skip the download:\n",
    "# python3 data_setup.py --skip-download"
   ]
  },
  {
   "cell_type": "code",
   "execution_count": 8,
   "metadata": {},
   "outputs": [
    {
     "name": "stdout",
     "output_type": "stream",
     "text": [
      "<class 'pandas.core.frame.DataFrame'>\n",
      "RangeIndex: 8665 entries, 0 to 8664\n",
      "Data columns (total 10 columns):\n",
      " #   Column          Non-Null Count  Dtype \n",
      "---  ------          --------------  ----- \n",
      " 0   id              8665 non-null   int64 \n",
      " 1   name            8665 non-null   object\n",
      " 2   artists         8665 non-null   object\n",
      " 3   releaseDate     8665 non-null   object\n",
      " 4   popularity      8665 non-null   int64 \n",
      " 5   lyrics          8665 non-null   object\n",
      " 6   cleaned_lyrics  8665 non-null   object\n",
      " 7   is_french       8665 non-null   bool  \n",
      " 8   year            8665 non-null   int64 \n",
      " 9   decade          8665 non-null   object\n",
      "dtypes: bool(1), int64(3), object(6)\n",
      "memory usage: 617.8+ KB\n",
      "['moi', 'je', 'sais', 'ce', 'que', 'veux', 'tu', 'sais', 'est', 'quoi', 'mon', 'but', 'etre', 'un', 'putain', 'de', 'bourgeois', 'gagner', 'du', 'ble', 'rien', 'glander', 'je', 'ne', 'veux', 'surtout', 'pas', 'retourner', 'ou', 'etais', 'je', 'ne', 'veux', 'plus', 'cirer', 'les', 'pompes', 'un', 'encule', 'pour', 'avoir', 'de', 'quoi', 'vivre', 'ai', 'sourire', 'tant', 'que', 'manque', 'pas', 'billets', 'banque', 'de', 'plaisirs', 'charnels', 'blinde', 'comme', 'un', 'tank', 'pris', 'sous', 'le', 'charme', 'gonfle', 'comme', 'une', 'grosse', 'paire', 'de', 'mamelles', 'moi', 'fric', 'ca', 'fait', 'bander', 'comme', 'le', 'boule', 'julia', 'channel', 'demandez', 'mes', 'partenaires', 'qu', 'est', 'ce', 'qui', 'fait', 'tourner', 'la', 'planete', 'le', 'sexe', 'les', 'biftons', 'le', 'pouvoir', 'et', 'les', 'business', 'pas', 'nets', 'vise', 'aux', 'manettes', 'rien', 'que', 'des', 'proxenetes', 'avise', 'les', 'maquisards', 'au', 'qg', 'eux', 'ils', 'connaissent', 'la', 'devise', 'est', 'net', 'brise', 'les', 'tabous', 'et', 'qu', 'on', 'le', 'dise', 'au', 'bout', 'du', 'rouleau', 'les', 'chiens', 'sont', 'bout', 'ils', 'gisent', 'la', 'boue', 'jusqu', 'au', 'cou', 'ici', 'beaucoup', 'misent', 'sur', 'les', 'gros', 'coups', 'meprisent', 'le', 'metro', 'boulot', 'sous', 'emprise', 'ils', 'jouent', 'du', 'teau', 'cou', 'tisent', 'attisent', 'les', 'flammes', 'convoitise', 'et', 'belles', 'femmes', 'sous', 'le', 'soleil', 'de', 'satan', 'les', 'anges', 'sont', 'infames', 'on', 'attend', 'au', 'pire', 'en', 'tatant', 'plus', 'de', 'billets', 'la', 'devise', 'estropier', 'la', 'paix', 'peut', 'aller', 'rhabiller', 'la', 'crise', 'consume', 'le', 'ghetto', 'et', 'ses', 'rejetons', 'le', 'sort', 'est', 'toujours', 'plus', 'vicieux', 'avec', 'ceux', 'qu', 'on', 'rejetes', 'les', 'jetons', 'ca', 'rentre', 'ca', 'sort', 'la', 'vie', 'est', 'pas', 'un', 'feuilleton', 'un', 'long', 'fleuve', 'tranquille', 'ou', 'un', 'putain', 'bouquin', 'feuilleter', 'cueille', 'ton', 'ble', 'mec', 'emblee', 'tous', 'les', 'scarlas', 'ressemblent', 'est', 'nique', 'il', 'me', 'semble', 'et', 'dans', 'ce', 'maquis', 'on', 'crevera', 'ensemble', 'la', 'gloire', 'on', 'en', 'veut', 'tous', 'ou', 'plus', 'ou', 'moins', 'une', 'parcelle', 'et', 'quand', 'regarde', 'mon', 'miroir', 'le', 'demon', 'me', 'harcele', 'qu', 'est', 'ce', 'qui', 'fait', 'courir', 'les', 'scar', 'las', 'qu', 'est', 'ce', 'qui', 'fait', 'courir', 'les', 'scar', 'las', 'sexe', 'pouvoir', 'et', 'biftons', 'si', 'respect', 'passe', 'par', 'la', 'voila', 'qui', 'fait', 'courir', 'les', 'scar', 'las', 'sexe', 'et', 'biftons', 'qu', 'est', 'ce', 'qui', 'fait', 'courir', 'les', 'scar', 'las', 'je', 'veux', 'le', 'monde', 'comme', 'tony', 'cocker', 'des', 'koukounes', 'comme', 'rocco', 'sans', 'ironie', 'croquer', 'la', 'vie', 'une', 'paire', 'de', 'noix', 'de', 'coco', 'en', 'ro', 'les', 'bourses', 'pleines', 'joko', 'roc', 'la', 'place', 'du', 'cœur', 'stoco', 'en', 'affaires', 'croco', 'quand', 'il', 'faut', 'plaire', 'hoche', 'la', 'tete', 'domine', 'fauche', 'mes', 'ennemis', 'accroche', 'mes', 'trophees', 'mes', 'poches', 'enflent', 'quand', 'passe', 'rue', 'saint', 'denis', 'le', 'sexe', 'le', 'pouvoir', 'et', 'les', 'biftons', 'voila', 'pas', 'le', 'choix', 'khouya', 'le', 'respect', 'passe', 'par', 'la', 'roulez', 'avec', 'moi', 'et', 'vous', 'ne', 'regretterez', 'rien', 'rien', 'que', 'du', 'popotin', 'du', 'bon', 'vin', 'gars', 'plus', 'jamais', 'en', 'chien', 'un', 'gros', 'fer', 'jantes', 'chromees', 'chaque', 'soir', 'je', 'promets', 'un', 'bon', 'delire', 'troner', 'dans', 'le', 'tout', 'paname', 'plein', 'goumes', 'file', 'ton', 'chichon', 'vide', 'ton', 'sac', 'fiston', 'dans', 'mon', 'pe', 'grou', 'est', 'porte', 'ouverte', 'pas', 'besoin', 'de', 'piston', 'hisse', 'ton', 'drapeau', 'noir', 'plisse', 'ton', 'front', 'garcon', 'laisse', 'ton', 'petit', 'train', 'train', 'de', 'vie', 'et', 'piston', 'le', 'succes', 'passe', 'par', 'la', 'je', 'ai', 'vu', 'mais', 'bordel', 'il', 'trace', 'je', 'ferais', 'importe', 'quoi', 'pour', 'avoir', 'ca', 'passe', 'ou', 'ca', 'casse', 'pas', 'de', 'souci', 'part', 'peut', 'etre', 'la', 'couleur', 'ma', 'cravate', 'je', 'suis', 'aussi', 'beau', 'qu', 'un', 'billet', 'cinquante', 'keus', 'mate', 'le', 'traine', 'savate', 'est', 'devenu', 'quelqu', 'un', 'mes', 'pieds', 'au', 'sol', 'ma', 'tete', 'est', 'loin', 'dans', 'ma', 'rue', 'est', 'plus', 'comme', 'avant', 'tout', 'le', 'monde', 'est', 'mon', 'copain', 'le', 'monde', 'est', 'moi', 'et', 'ai', 'les', 'pompes', 'cirees', 'je', 'inquiete', 'pas', 'pour', 'les', 'fins', 'de', 'mois', 'ai', 'deja', 'mon', 'cheque', 'vire', 'devoile', 'les', 'reves', 'des', 'cages', 'escaliers', 'qu', 'est', 'ce', 'qui', 'fait', 'tourner', 'la', 'sphere', 'mon', 'gars', 'je', 'sais', 'maintenant', 'tu', 'sais', 'qu', 'est', 'ce', 'qui', 'fait', 'courir', 'les', 'scar', 'las', 'qu', 'est', 'ce', 'qui', 'fait', 'courir', 'les', 'scar', 'las', 'sexe', 'pouvoir', 'et', 'biftons', 'si', 'respect', 'passe', 'par', 'la', 'voila', 'qui', 'fait', 'courir', 'les', 'scar', 'las', 'sexe', 'et', 'biftons', 'qu', 'est', 'ce', 'qui', 'fait', 'courir', 'les', 'scar', 'las', 'me', 'fixe', 'sur', 'le', 'mix', 'et', 'exprime', 'sans', 'complexe', 'ou', 'quand', 'le', 'sexe', 'prime', 'ma', 'rime', 'devient', 'sexplicite', 'et', 'te', 'dis', 'qu', 'ca', 'epice', 'comme', 'au', 'tex', 'mex', 'pour', 'diksa', 'un', 'texte', 'plus', 'profond', 'qu', 'la', 'gorge', 'draghixa', 'latex', 'en', 'poche', 'durex', 'pour', 'sponsor', 'qu', 'est', 'ce', 'qui', 'fait', 'tourner', 'la', 'sphere', 'part', 'le', 'sexe', 'et', 'or', 'on', 'sort', 'pas', 'du', 'contexte', 'et', 'est', 'comme', 'dans', 'premier', 'couplet', 'es', 'un', 'mec', 'comble', 'quand', 'fesses', 'et', 'ble', 'sont', 'accouples', 'on', 'extasie', 'on', 'expose', 'sexe', 'comme', 'ecstasy', 'explose', 'ici', 'au', 'sussex', 'et', 'jusqu', 'en', 'asie', 'ose', 'me', 'dire', 'que', 'mon', 'rap', 'te', 'vexe', 'miss', 'on', 'excuse', 'pas', 'on', 'expose', 'les', 'faits', 'la', 'prose', 'fuse', 'sexe', 'jusqu', 'exces', 'ce', 'lyrics', 'est', 'clair', 'argent', 'pas', 'odeur', 'mon', 'frere', 'mais', 'la', 'femme', 'du', 'flair', 'la', 'jalousie', 'ronge', 'envieux', 'comme', 'la', 'rouille', 'ronge', 'le', 'fer', 'on', 'ira', 'tous', 'au', 'paradis', 'car', 'est', 'ici', 'enfer', 'aucun', 'tact', 'rien', 'que', 'des', 'pactes', 'du', 'buis', 'traque', 'pour', 'la', 'monnaie', 'sacs', 'bourres', 'chaque', 'soir', 'braque', 'des', 'tas', 'de', 'poupees', 'coupe', 'cab', 'respect', 'passe', 'le', 'pouvoir', 'tout', 'est', 'donne', 'moi', 'la', 'place', 'qui', 'revient', 'sous', 'le', 'chaud', 'soleil', 'du', 'tanche', 'hacher', 'fin', 'cacher', 'dans', 'un', 'trou', 'bacher', 'celui', 'qui', 'me', 'fache', 'et', 'arracher', 'de', 'la', 'zone', 'tous', 'ceux', 'qui', 'avec', 'moi', 'veulent', 'marcher', 'le', 'sexe', 'le', 'pouvoir', 'et', 'les', 'biftons', 'voila', 'pas', 'choix', 'mon', 'gars', 'le', 'respect', 'passe', 'par', 'la', 'qu', 'est', 'ce', 'qui', 'fait', 'courir', 'les', 'scar', 'las', 'qu', 'est', 'ce', 'qui', 'fait', 'courir', 'les', 'scar', 'las', 'sexe', 'pouvoir', 'et', 'biftons', 'si', 'respect', 'passe', 'par', 'la', 'voila', 'qui', 'fait', 'courir', 'les', 'scar', 'las', 'sexe', 'et', 'biftons', 'qu', 'est', 'ce', 'qui', 'fait', 'courir', 'les', 'scar', 'las']\n"
     ]
    }
   ],
   "source": [
    "# Load the data\n",
    "import pandas as pd\n",
    "\n",
    "songs_df = pd.read_csv('data/processed_french_rap_songs.csv')\n",
    "songs_df.info()\n",
    "\n",
    "# Example of text data\n",
    "print(songs_df.iloc[0]['cleaned_lyrics'])"
   ]
  },
  {
   "cell_type": "markdown",
   "metadata": {},
   "source": [
    "## Word Embedding Training"
   ]
  },
  {
   "cell_type": "code",
   "execution_count": null,
   "metadata": {},
   "outputs": [],
   "source": [
    "# Code inspired from Schmahl, K. G., Viering, T., Makrodimitris, S., Jahfari, A. N., Tax, D., & Loog, M. (2020). Is Wikipedia succeeding in reducing gender bias? Assessing changes in gender bias in Wikipedia using word embeddings. NLPCSS. https://doi.org/10.18653/V1/2020.NLPCSS-1.11\n",
    "# https://gitlab.com/kschmahl/wikipedia-gender-bias-over-time/\n",
    "\n",
    "import gensim"
   ]
  },
  {
   "cell_type": "markdown",
   "metadata": {},
   "source": [
    "## Word Embedding Validation"
   ]
  },
  {
   "cell_type": "markdown",
   "metadata": {},
   "source": [
    "## Gender Stereotypes Analysis"
   ]
  }
 ],
 "metadata": {
  "kernelspec": {
   "display_name": "nlp-summative",
   "language": "python",
   "name": "python3"
  },
  "language_info": {
   "codemirror_mode": {
    "name": "ipython",
    "version": 3
   },
   "file_extension": ".py",
   "mimetype": "text/x-python",
   "name": "python",
   "nbconvert_exporter": "python",
   "pygments_lexer": "ipython3",
   "version": "3.10.16"
  }
 },
 "nbformat": 4,
 "nbformat_minor": 2
}
