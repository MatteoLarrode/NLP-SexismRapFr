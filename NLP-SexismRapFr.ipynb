{
 "cells": [
  {
   "cell_type": "markdown",
   "metadata": {},
   "source": [
    "# Semantic analysis of sexism in French Rap using word embeddings\n",
    "\n",
    "Natural Language Processing for the Social Sciences\n",
    "\n",
    "Matteo Larrode, MSc Social Data Science"
   ]
  },
  {
   "cell_type": "markdown",
   "metadata": {},
   "source": [
    "## Setup"
   ]
  },
  {
   "cell_type": "code",
   "execution_count": 40,
   "metadata": {},
   "outputs": [
    {
     "name": "stdout",
     "output_type": "stream",
     "text": [
      "The autoreload extension is already loaded. To reload it, use:\n",
      "  %reload_ext autoreload\n"
     ]
    }
   ],
   "source": [
    "%load_ext autoreload\n",
    "%autoreload 2"
   ]
  },
  {
   "cell_type": "code",
   "execution_count": 45,
   "metadata": {},
   "outputs": [],
   "source": [
    "import pandas as pd\n",
    "import numpy as np\n",
    "import matplotlib.pyplot as plt\n",
    "import seaborn as sns\n",
    "import os\n",
    "import pickle\n",
    "import wandb\n",
    "from gensim.models import Word2Vec\n",
    "import re\n",
    "\n",
    "from utils.cleaning_helpers import *\n",
    "from utils.visualisations_helpers import *\n",
    "from utils.analysis_helpers import *\n",
    "from utils.validation_helpers import *\n",
    "\n",
    "set_visualization_style()\n",
    "\n",
    "viridis = plt.get_cmap('viridis_r', 6) "
   ]
  },
  {
   "cell_type": "markdown",
   "metadata": {},
   "source": [
    "## Word Embeddings Training"
   ]
  },
  {
   "cell_type": "code",
   "execution_count": null,
   "metadata": {},
   "outputs": [],
   "source": [
    "# Data is from 2024 ACL-SRW paper \"A Computational Analysis and Exploration of Linguistic Borrowings in French Rap Lyrics\" by Lucas Zurbuchen and Rob Voigt.\n",
    "# Paper: https://aclanthology.org/2024.acl-srw.27.pdf\n",
    "# Source: https://github.com/ljz112/CLResearch/tree/main/dataEntries\n",
    "\n",
    "# Download the data from the GitHub repository & create csv files:\n",
    "# python data_preprocessing.py\n",
    "# Or to skip the download:\n",
    "# python data_preprocessing.py --skip-download"
   ]
  },
  {
   "cell_type": "code",
   "execution_count": 17,
   "metadata": {},
   "outputs": [
    {
     "name": "stdout",
     "output_type": "stream",
     "text": [
      "<class 'pandas.core.frame.DataFrame'>\n",
      "Index: 8208 entries, 0 to 11616\n",
      "Data columns (total 10 columns):\n",
      " #   Column          Non-Null Count  Dtype \n",
      "---  ------          --------------  ----- \n",
      " 0   id              8208 non-null   int64 \n",
      " 1   name            8208 non-null   object\n",
      " 2   artists         8208 non-null   object\n",
      " 3   releaseDate     8208 non-null   object\n",
      " 4   popularity      8208 non-null   int64 \n",
      " 5   lyrics          8208 non-null   object\n",
      " 6   cleaned_lyrics  8208 non-null   object\n",
      " 7   is_french       8208 non-null   bool  \n",
      " 8   year            8208 non-null   int64 \n",
      " 9   decade          8208 non-null   object\n",
      "dtypes: bool(1), int64(3), object(6)\n",
      "memory usage: 649.3+ KB\n",
      "<class 'list'>\n",
      "['moi', 'je', 'sais', 'ce', 'que', 'veux', 'tu', 'sais', 'est', 'quoi', 'mon', 'but', 'être', 'un', 'putain', 'de', 'bourgeois', 'gagner', 'du', 'blé', 'rien', 'glander', 'je', 'ne', 'veux', 'surtout', 'pas', 'retourner', 'où', 'étais', 'je', 'ne', 'veux', 'plus', 'cirer', 'les', 'pompes', 'un', 'enculé', 'pour', 'avoir', 'de', 'quoi', 'vivre', 'ai', 'sourire', 'tant', 'que', 'manque', 'pas', 'billets', 'banque', 'de', 'plaisirs', 'charnels', 'blindé', 'comme', 'un', 'tank', 'pris', 'sous', 'le', 'charme', 'gonflé', 'comme', 'une', 'grosse', 'paire', 'de', 'mamelles', 'moi', 'fric', 'ça', 'fait', 'bander', 'comme', 'le', 'boule', 'julia', 'channel', 'demandez', 'mes', 'partenaires', 'qu', 'est', 'ce', 'qui', 'fait', 'tourner', 'la', 'planète', 'le', 'sexe', 'les', 'biftons', 'le', 'pouvoir', 'et', 'les', 'business']\n"
     ]
    }
   ],
   "source": [
    "# Load the data\n",
    "songs_df = pd.read_pickle('data/processed_french_rap_songs.pkl')\n",
    "\n",
    "songs_df.info()\n",
    "print(type(songs_df['cleaned_lyrics'].iloc[0]))\n",
    "print(songs_df['cleaned_lyrics'].iloc[0][:100])"
   ]
  },
  {
   "cell_type": "code",
   "execution_count": 18,
   "metadata": {},
   "outputs": [
    {
     "data": {
      "image/png": "[encoded data removed]",
      "text/plain": [
       "<Figure size 1000x600 with 1 Axes>"
      ]
     },
     "metadata": {},
     "output_type": "display_data"
    }
   ],
   "source": [
    "# Check number of songs per decade\n",
    "plt.figure(figsize=(10, 6))\n",
    "decade_counts = songs_df['decade'].value_counts().sort_index()\n",
    "sns.barplot(x=decade_counts.index, y=decade_counts.values)\n",
    "# Add number of songs on top of each bar\n",
    "for i, count in enumerate(decade_counts.values):\n",
    "    plt.text(i, count + 5, str(count), ha='center', va='bottom')\n",
    "plt.title('Distribution of Songs by Decade')\n",
    "plt.xlabel('Decade')\n",
    "plt.ylabel('Number of Songs')\n",
    "plt.xticks(rotation=45)\n",
    "plt.tight_layout()\n",
    "plt.show()"
   ]
  },
  {
   "cell_type": "markdown",
   "metadata": {},
   "source": [
    "Code inspired from Schmahl, K. G., Viering, T., Makrodimitris, S., Jahfari, A. N., Tax, D., & Loog, M. (2020). Is Wikipedia succeeding in reducing gender bias? Assessing changes in gender bias in Wikipedia using word embeddings. NLPCSS. https://doi.org/10.18653/V1/2020.NLPCSS-1.11\n",
    "\n",
    "https://gitlab.com/kschmahl/wikipedia-gender-bias-over-time/"
   ]
  },
  {
   "cell_type": "code",
   "execution_count": 6,
   "metadata": {},
   "outputs": [
    {
     "name": "stderr",
     "output_type": "stream",
     "text": [
      "\u001b[34m\u001b[1mwandb\u001b[0m: Using wandb-core as the SDK backend.  Please refer to https://wandb.me/wandb-core for more information.\n",
      "\u001b[34m\u001b[1mwandb\u001b[0m: Currently logged in as: \u001b[33mmatteo-larrode\u001b[0m (\u001b[33mmatteo-larrode-university-of-oxford\u001b[0m) to \u001b[32mhttps://api.wandb.ai\u001b[0m. Use \u001b[1m`wandb login --relogin`\u001b[0m to force relogin\n"
     ]
    },
    {
     "data": {
      "text/html": [
       "Tracking run with wandb version 0.19.9"
      ],
      "text/plain": [
       "<IPython.core.display.HTML object>"
      ]
     },
     "metadata": {},
     "output_type": "display_data"
    },
    {
     "data": {
      "text/html": [
       "Run data is saved locally in <code>/Users/matteolarrode/Documents/Oxford/NLP/Assignment/NLP-SexismRapFr/wandb/run-20250404_181644-7u6f7ufy</code>"
      ],
      "text/plain": [
       "<IPython.core.display.HTML object>"
      ]
     },
     "metadata": {},
     "output_type": "display_data"
    },
    {
     "data": {
      "text/html": [
       "Syncing run <strong><a href='https://wandb.ai/matteo-larrode-university-of-oxford/french-rap-word-embeddings/runs/7u6f7ufy' target=\"_blank\">simple-training</a></strong> to <a href='https://wandb.ai/matteo-larrode-university-of-oxford/french-rap-word-embeddings' target=\"_blank\">Weights & Biases</a> (<a href='https://wandb.me/developer-guide' target=\"_blank\">docs</a>)<br>"
      ],
      "text/plain": [
       "<IPython.core.display.HTML object>"
      ]
     },
     "metadata": {},
     "output_type": "display_data"
    },
    {
     "data": {
      "text/html": [
       " View project at <a href='https://wandb.ai/matteo-larrode-university-of-oxford/french-rap-word-embeddings' target=\"_blank\">https://wandb.ai/matteo-larrode-university-of-oxford/french-rap-word-embeddings</a>"
      ],
      "text/plain": [
       "<IPython.core.display.HTML object>"
      ]
     },
     "metadata": {},
     "output_type": "display_data"
    },
    {
     "data": {
      "text/html": [
       " View run at <a href='https://wandb.ai/matteo-larrode-university-of-oxford/french-rap-word-embeddings/runs/7u6f7ufy' target=\"_blank\">https://wandb.ai/matteo-larrode-university-of-oxford/french-rap-word-embeddings/runs/7u6f7ufy</a>"
      ],
      "text/plain": [
       "<IPython.core.display.HTML object>"
      ]
     },
     "metadata": {},
     "output_type": "display_data"
    },
    {
     "name": "stdout",
     "output_type": "stream",
     "text": [
      "Decades in dataset: ['1990s-2000s' '2010s' '2020s']\n",
      "\n",
      "Training model for 1990s-2000s...\n",
      "Number of songs: 951\n",
      "Corpus size: 951 songs\n",
      "Model saved to models/1990s-2000s/rap_1990s-2000s_model\n",
      "\n",
      "Training model for 2010s...\n",
      "Number of songs: 2312\n",
      "Corpus size: 2312 songs\n",
      "Model saved to models/2010s/rap_2010s_model\n",
      "\n",
      "Training model for 2020s...\n",
      "Number of songs: 4945\n",
      "Corpus size: 4945 songs\n",
      "Model saved to models/2020s/rap_2020s_model\n",
      "\n",
      "Training model on all decades combined...\n",
      "Combined corpus size: 8208 songs\n",
      "Combined model saved to models/all/rap_all_decades_model\n"
     ]
    },
    {
     "data": {
      "text/html": [],
      "text/plain": [
       "<IPython.core.display.HTML object>"
      ]
     },
     "metadata": {},
     "output_type": "display_data"
    },
    {
     "data": {
      "text/html": [
       "<br>    <style><br>        .wandb-row {<br>            display: flex;<br>            flex-direction: row;<br>            flex-wrap: wrap;<br>            justify-content: flex-start;<br>            width: 100%;<br>        }<br>        .wandb-col {<br>            display: flex;<br>            flex-direction: column;<br>            flex-basis: 100%;<br>            flex: 1;<br>            padding: 10px;<br>        }<br>    </style><br><div class=\"wandb-row\"><div class=\"wandb-col\"><h3>Run history:</h3><br/><table class=\"wandb\"><tr><td>num_songs</td><td>▁▂▅█</td></tr><tr><td>vocab_size</td><td>▁▂▅█</td></tr></table><br/></div><div class=\"wandb-col\"><h3>Run summary:</h3><br/><table class=\"wandb\"><tr><td>decade</td><td>all</td></tr><tr><td>num_songs</td><td>8208</td></tr><tr><td>vocab_size</td><td>26149</td></tr></table><br/></div></div>"
      ],
      "text/plain": [
       "<IPython.core.display.HTML object>"
      ]
     },
     "metadata": {},
     "output_type": "display_data"
    },
    {
     "data": {
      "text/html": [
       " View run <strong style=\"color:#cdcd00\">simple-training</strong> at: <a href='https://wandb.ai/matteo-larrode-university-of-oxford/french-rap-word-embeddings/runs/7u6f7ufy' target=\"_blank\">https://wandb.ai/matteo-larrode-university-of-oxford/french-rap-word-embeddings/runs/7u6f7ufy</a><br> View project at: <a href='https://wandb.ai/matteo-larrode-university-of-oxford/french-rap-word-embeddings' target=\"_blank\">https://wandb.ai/matteo-larrode-university-of-oxford/french-rap-word-embeddings</a><br>Synced 5 W&B file(s), 0 media file(s), 0 artifact file(s) and 0 other file(s)"
      ],
      "text/plain": [
       "<IPython.core.display.HTML object>"
      ]
     },
     "metadata": {},
     "output_type": "display_data"
    },
    {
     "data": {
      "text/html": [
       "Find logs at: <code>./wandb/run-20250404_181644-7u6f7ufy/logs</code>"
      ],
      "text/plain": [
       "<IPython.core.display.HTML object>"
      ]
     },
     "metadata": {},
     "output_type": "display_data"
    },
    {
     "name": "stdout",
     "output_type": "stream",
     "text": [
      "Training complete!\n"
     ]
    }
   ],
   "source": [
    "# Initialize W&B\n",
    "wandb.init(project=\"french-rap-word-embeddings\", name=\"simple-training\")\n",
    "\n",
    "# Group songs by decade\n",
    "decades = songs_df['decade'].unique()\n",
    "print(f\"Decades in dataset: {decades}\")\n",
    "\n",
    "# Define parameters\n",
    "vector_size = 100\n",
    "window = 10\n",
    "workers = 4\n",
    "min_count = 5\n",
    "iterations = 5\n",
    "sg = 1  # Skip-gram model\n",
    "seed = 42\n",
    "\n",
    "# Train a model for each decade\n",
    "for decade in decades:\n",
    "    print(f\"\\nTraining model for {decade}...\")\n",
    "    \n",
    "    # Get songs for this decade\n",
    "    decade_songs = songs_df[songs_df['decade'] == decade]\n",
    "    print(f\"Number of songs: {len(decade_songs)}\")\n",
    "    \n",
    "    # Use pre-tokenized lyrics if available\n",
    "    if 'cleaned_lyrics' in decade_songs.columns:\n",
    "        # Filter out any None or NaN values\n",
    "        corpus = [tokens for tokens in decade_songs['cleaned_lyrics'].tolist() if tokens]\n",
    "    else:\n",
    "        print(\"Warning: No cleaned_lyrics found.\")\n",
    "        # Terminate the loop\n",
    "        continue\n",
    "    \n",
    "    print(f\"Corpus size: {len(corpus)} songs\")\n",
    "    \n",
    "    # Create output directory\n",
    "    output_dir = f'models/{decade}'\n",
    "    os.makedirs(output_dir, exist_ok=True)\n",
    "    \n",
    "    # Train the model\n",
    "    model = Word2Vec(\n",
    "        sentences=corpus,\n",
    "        vector_size=vector_size,\n",
    "        window=window,\n",
    "        min_count=min_count,\n",
    "        workers=workers,\n",
    "        epochs=iterations,\n",
    "        sg=sg,\n",
    "        seed=seed\n",
    "    )\n",
    "    \n",
    "    # Log basic info to W&B\n",
    "    wandb.log({\n",
    "        \"decade\": decade,\n",
    "        \"num_songs\": len(corpus),\n",
    "        \"vocab_size\": len(model.wv.index_to_key)\n",
    "    })\n",
    "    \n",
    "    # Save the model\n",
    "    model_path = f'{output_dir}/rap_{decade}_model'\n",
    "    model.save(model_path)\n",
    "    print(f\"Model saved to {model_path}\")\n",
    "    \n",
    "    # Save vocabulary dictionary\n",
    "    vocab_dict = {word: index for index, word in enumerate(model.wv.index_to_key)}\n",
    "    with open(f'{model_path}-vocab.pkl', 'wb') as f:\n",
    "        pickle.dump(vocab_dict, f)\n",
    "    \n",
    "    # Save vectors in numpy format\n",
    "    np.save(f'{model_path}-vectors.npy', model.wv.vectors)\n",
    "\n",
    "# Train model on the entire corpus\n",
    "print(\"\\nTraining model on all decades combined...\")\n",
    "\n",
    "# Combine all corpora\n",
    "all_corpus = []\n",
    "for decade in decades:\n",
    "    decade_songs = songs_df[songs_df['decade'] == decade]\n",
    "    if 'cleaned_lyrics' in decade_songs.columns:\n",
    "        decade_corpus = [tokens for tokens in decade_songs['cleaned_lyrics'].tolist() if tokens]\n",
    "        all_corpus.extend(decade_corpus)\n",
    "\n",
    "print(f\"Combined corpus size: {len(all_corpus)} songs\")\n",
    "\n",
    "# Create output directory for combined model\n",
    "output_dir = 'models/all'\n",
    "os.makedirs(output_dir, exist_ok=True)\n",
    "\n",
    "# Train the combined model\n",
    "all_model = Word2Vec(\n",
    "    sentences=all_corpus,\n",
    "    vector_size=vector_size,\n",
    "    window=window,\n",
    "    min_count=min_count,\n",
    "    workers=4,\n",
    "    epochs=iterations,\n",
    "    sg=sg,\n",
    "    seed=seed\n",
    ")\n",
    "\n",
    "# Log basic info to W&B\n",
    "wandb.log({\n",
    "    \"decade\": \"all\",\n",
    "    \"num_songs\": len(all_corpus),\n",
    "    \"vocab_size\": len(all_model.wv.index_to_key)\n",
    "})\n",
    "\n",
    "# Save the combined model\n",
    "model_path = f'{output_dir}/rap_all_decades_model'\n",
    "all_model.save(model_path)\n",
    "print(f\"Combined model saved to {model_path}\")\n",
    "\n",
    "# Save vocabulary dictionary\n",
    "vocab_dict = {word: index for index, word in enumerate(all_model.wv.index_to_key)}\n",
    "with open(f'{model_path}-vocab.pkl', 'wb') as f:\n",
    "    pickle.dump(vocab_dict, f)\n",
    "\n",
    "# Save vectors in numpy format\n",
    "np.save(f'{model_path}-vectors.npy', all_model.wv.vectors)\n",
    "\n",
    "# Finish the W&B run\n",
    "wandb.finish()\n",
    "\n",
    "print(\"Training complete!\")"
   ]
  },
  {
   "cell_type": "markdown",
   "metadata": {},
   "source": [
    "## Word Embedding Validation"
   ]
  },
  {
   "cell_type": "code",
   "execution_count": 46,
   "metadata": {},
   "outputs": [
    {
     "name": "stdout",
     "output_type": "stream",
     "text": [
      "Loaded model: all\n",
      "Loaded model: 2020s\n",
      "Loaded model: 2010s\n",
      "Loaded model: 1990s-2000s\n"
     ]
    }
   ],
   "source": [
    "models = load_models()"
   ]
  },
  {
   "cell_type": "markdown",
   "metadata": {},
   "source": [
    "### Intrinsic Evaluation 1 - Clustering and visualisation"
   ]
  },
  {
   "cell_type": "code",
   "execution_count": null,
   "metadata": {},
   "outputs": [],
   "source": [
    "# categories = {\n",
    "#     'modal_verbs': [\n",
    "#         'peut', 'veux', 'faut', 'veut', 'veulent', 'dois', 'peux', \n",
    "#     ],\n",
    "#     'quantitative_expressions': [\n",
    "#         'peu', 'beaucoup', 'trop',\n",
    "#     ],\n",
    "#     'value_judgments': [\n",
    "#         'vrai', 'bon', 'mal', 'bien', 'aime', 'mauvais', 'sale'\n",
    "#     ],\n",
    "#     'emotional_concepts': [\n",
    "#         'cœur', 'amour', 'haine', 'peur', 'joie'\n",
    "#     ],\n",
    "#     'temporal_markers': [\n",
    "#         'avant', 'maintenant', 'depuis', 'après', 'toujours', 'jamais',\n",
    "#         'encore', 'déjà', 'jour', 'quand'\n",
    "#     ],\n",
    "#     'existential_concepts': [\n",
    "#         'vie', 'mort', 'existe', 'vivre', 'mourir'\n",
    "#     ],\n",
    "#     'adlibs': [\n",
    "#         'ouh', 'ah', 'oh', 'yo', 'yeah', 'ouais', 'eh', 'han'\n",
    "#     ],\n",
    "#     'spatial_markers': [\n",
    "#         'ici', 'là', 'loin', 'près', 'partout', 'nulle', 'où', 'bas', 'viens', 'vas', 'va', 'vais'\n",
    "#     ],\n",
    "# }"
   ]
  },
  {
   "cell_type": "markdown",
   "metadata": {},
   "source": [
    "To get a first idea of their validity, I use k-means clustering on the word embeddings, then visualise the results after reducing dimensionality with t-SNE."
   ]
  },
  {
   "cell_type": "code",
   "execution_count": 55,
   "metadata": {},
   "outputs": [
    {
     "data": {
      "image/png": "[encoded data removed]",
      "text/plain": [
       "<Figure size 1200x1000 with 1 Axes>"
      ]
     },
     "metadata": {},
     "output_type": "display_data"
    }
   ],
   "source": [
    "# Run k-means clustering\n",
    "n_clusters = 8\n",
    "\n",
    "cluster_info = kmeans_cluster_embeddings(\n",
    "    models[\"all\"], \n",
    "    n_words=100,\n",
    "    n_clusters=n_clusters,\n",
    "    save_path=f'figs/kmeans_word_clusters_{n_clusters}.png'\n",
    ")"
   ]
  },
  {
   "cell_type": "markdown",
   "metadata": {},
   "source": [
    "### Intrinsic Evaluation 2- Semantic similarity\n",
    "\n",
    "As a second way to validate the word embeddings created, I assess semantic similarity. The idea is to compare levels of similarity (using cosine distance) represented by my word embeddings to pairs of words generally considered as similar. I use Lakhzoum et al. (2021)'s normative database for 630 semantically similar French word pairs and associated levels of abstractness for 1260 isolated words [1].\n",
    "\n",
    "----\n",
    "[1] Lakhzoum, D., Izaute, M., & Ferrand, L. (2021). Semantic similarity and associated abstractness norms for 630 French word pairs. Behavior Research Methods, 53(3), 1166–1178. https://doi.org/10.3758/s13428-020-01488-z\n"
   ]
  },
  {
   "cell_type": "code",
   "execution_count": 4,
   "metadata": {},
   "outputs": [
    {
     "name": "stdout",
     "output_type": "stream",
     "text": [
      "Skipping word pair 'four-grille-pain' - could not parse properly\n",
      "Skipping word pair 'rourge-gorge-moineau' - could not parse properly\n",
      "Number of word pairs not in vocabulary: 178 / 626\n",
      "Examples of missing pairs:\n",
      "  (abeille, guêpe) - missing: guêpe\n",
      "  (abolir, annuler) - missing: abolir\n",
      "  (absurde, ridicule) - missing: absurde\n",
      "  (acceptation, accord) - missing: acceptation\n",
      "  (activisme, militantisme) - missing: activisme, militantisme\n",
      "  ... and 173 more\n"
     ]
    }
   ],
   "source": [
    "# Word similarity dataset by Lakhzoum et al., 2021\n",
    "# Source: https://osf.io/8m6af\n",
    "similarities_dataset_url = \"https://osf.io/download/8m6af/\"\n",
    "\n",
    "# Download and load the dataset\n",
    "similarity_dict = parse_similarity_dataset(download_similarity_dataset(similarities_dataset_url))\n",
    "\n",
    "# Add model similarities to the dictionary\n",
    "similarities_test_results_dict = add_model_similarities(similarity_dict, models[\"all\"])"
   ]
  },
  {
   "cell_type": "code",
   "execution_count": null,
   "metadata": {},
   "outputs": [
    {
     "name": "stdout",
     "output_type": "stream",
     "text": [
      "Evaluation results:\n",
      "Valid pairs: 448 / 626 (71.57%)\n",
      "Pearson correlation: 0.0433 (p-value: 0.3600)\n",
      "Spearman correlation: 0.0529 (p-value: 0.2638)\n"
     ]
    }
   ],
   "source": [
    "# Validate the embeddings\n",
    "pearson_corr, pearson_p, spearman_corr, spearman_p, valid_pairs, total_pairs = validate_embeddings_on_similarities(similarities_test_results_dict)"
   ]
  },
  {
   "cell_type": "markdown",
   "metadata": {},
   "source": [
    "### Intrinsic validation 3 - Analogies"
   ]
  },
  {
   "cell_type": "markdown",
   "metadata": {},
   "source": [
    "For the third part of the validation process, I partly follow Abdine et al. (2022)'s methodology of evaluating word embeddings [1]. Their first step is the **analogy task** [2]. In this task, we predict a word D by analyzing the semantic relationships between three input words A, B, and C. The prediction operates on the assumption that high-quality word embeddings preserve linear relationships between word pairs.\n",
    "\n",
    "The process works as follows:\n",
    "\n",
    "1. Given words A, B, and C, we access their vector representations (xA, xB, xC).\n",
    "2. We compute a new vector using the formula: xB - xA + xC\n",
    "3. We search the embedding dictionary for the word vector most similar to this result, which becomes our predicted word D.\n",
    "\n",
    "For example, if we input \"king,\" \"man,\" and \"woman,\" a good embedding system should predict \"queen\" because the relationship between \"king\" and \"man\" parallels the relationship between \"queen\" and \"woman.\" Performance is measured by calculating the average accuracy across all test cases in the evaluation set. This approach effectively assesses how well word embeddings capture semantic relationships between concepts.\n",
    "\n",
    "To evaluate my word embeddings, I utilised the French analogy dataset developed by Grave et al. (2018). This comprehensive dataset contains 31,688 analogy questions designed to test semantic and syntactic relationships [3]. I benchmarked my embeddings against three established French word vector models:\n",
    "\n",
    "- French FastText (cc.fr.300) - also created by Grave et al. (2018)\n",
    "- French Wacky word vectors\n",
    "- Abdine et al. (2022)'s CBoW and Skip-Gram models trained on Large-Scale French Web Content\n",
    "\n",
    "This comparative evaluation allows me to assess the relative performance of my embeddings against well-established baselines in capturing linguistic relationships within the French language context.\n",
    "\n",
    "---------\n",
    "[1]: Abdine, H., Xypolopoulos, C., Eddine, M. K., & Vazirgiannis, M. (2022). Evaluation Of Word Embeddings From Large-Scale French Web Content (No. arXiv:2105.01990). arXiv. https://doi.org/10.48550/arXiv.2105.01990\n",
    "\n",
    "[2]: Mikolov, T., Chen, K., Corrado, G., & Dean, J. (2013). Efficient Estimation of Word Representations in Vector Space (No. arXiv:1301.3781). arXiv. https://doi.org/10.48550/arXiv.1301.3781\n",
    "\n",
    "[3]: Grave, E., Bojanowski, P., Gupta, P., Joulin, A., & Mikolov, T. (2018). Learning Word Vectors for 157 Languages. In N. Calzolari, K. Choukri, C. Cieri, T. Declerck, S. Goggi, K. Hasida, H. Isahara, B. Maegaard, J. Mariani, H. Mazo, A. Moreno, J. Odijk, S. Piperidis, & T. Tokunaga (Eds.), Proceedings of the Eleventh International Conference on Language Resources and Evaluation (LREC 2018). European Language Resources Association (ELRA). https://aclanthology.org/L18-1550/\n"
   ]
  },
  {
   "cell_type": "code",
   "execution_count": null,
   "metadata": {},
   "outputs": [
    {
     "name": "stdout",
     "output_type": "stream",
     "text": [
      "Downloading analogy dataset...\n",
      "Parsed 14 categories with a total of 31562 questions\n",
      "\n",
      "Evaluating model: model\n",
      "Evaluating category: antonyms-adjectives\n"
     ]
    },
    {
     "name": "stderr",
     "output_type": "stream",
     "text": [
      "100%|██████████| 648/648 [00:00<00:00, 1935.96it/s]\n"
     ]
    },
    {
     "name": "stdout",
     "output_type": "stream",
     "text": [
      "  Accuracy: 0.0055 (3/550)\n",
      "Evaluating category: capital-common-countries\n"
     ]
    },
    {
     "name": "stderr",
     "output_type": "stream",
     "text": [
      "100%|██████████| 380/380 [00:00<00:00, 694784.45it/s]\n"
     ]
    },
    {
     "name": "stdout",
     "output_type": "stream",
     "text": [
      "  No questions could be answered (words not in vocabulary)\n",
      "Evaluating category: capital-world\n"
     ]
    },
    {
     "name": "stderr",
     "output_type": "stream",
     "text": [
      "100%|██████████| 12210/12210 [00:00<00:00, 842296.21it/s]\n"
     ]
    },
    {
     "name": "stdout",
     "output_type": "stream",
     "text": [
      "  No questions could be answered (words not in vocabulary)\n",
      "Evaluating category: city-in-state\n"
     ]
    },
    {
     "name": "stderr",
     "output_type": "stream",
     "text": [
      "100%|██████████| 7832/7832 [00:00<00:00, 842496.70it/s]\n"
     ]
    },
    {
     "name": "stdout",
     "output_type": "stream",
     "text": [
      "  No questions could be answered (words not in vocabulary)\n",
      "Evaluating category: currency\n"
     ]
    },
    {
     "name": "stderr",
     "output_type": "stream",
     "text": [
      "100%|██████████| 800/800 [00:00<00:00, 588984.24it/s]\n"
     ]
    },
    {
     "name": "stdout",
     "output_type": "stream",
     "text": [
      "  No questions could be answered (words not in vocabulary)\n",
      "Evaluating category: family\n"
     ]
    },
    {
     "name": "stderr",
     "output_type": "stream",
     "text": [
      "100%|██████████| 340/340 [00:00<00:00, 1791.20it/s]\n"
     ]
    },
    {
     "name": "stdout",
     "output_type": "stream",
     "text": [
      "  Accuracy: 0.1106 (23/208)\n",
      "Evaluating category: gram1-adjective-to-adverb\n"
     ]
    },
    {
     "name": "stderr",
     "output_type": "stream",
     "text": [
      "100%|██████████| 926/926 [00:00<00:00, 8192.14it/s]\n"
     ]
    },
    {
     "name": "stdout",
     "output_type": "stream",
     "text": [
      "  Accuracy: 0.0000 (0/178)\n",
      "Evaluating category: gram2-opposite\n"
     ]
    },
    {
     "name": "stderr",
     "output_type": "stream",
     "text": [
      "100%|██████████| 756/756 [00:00<00:00, 6575.74it/s]\n"
     ]
    },
    {
     "name": "stdout",
     "output_type": "stream",
     "text": [
      "  Accuracy: 0.0055 (1/182)\n",
      "Evaluating category: gram3-present-participle\n"
     ]
    },
    {
     "name": "stderr",
     "output_type": "stream",
     "text": [
      "100%|██████████| 1258/1258 [00:00<00:00, 8153.79it/s]\n"
     ]
    },
    {
     "name": "stdout",
     "output_type": "stream",
     "text": [
      "  Accuracy: 0.0000 (0/238)\n",
      "Evaluating category: gram4-past-participle\n"
     ]
    },
    {
     "name": "stderr",
     "output_type": "stream",
     "text": [
      "100%|██████████| 1122/1122 [00:00<00:00, 1717.93it/s]\n"
     ]
    },
    {
     "name": "stdout",
     "output_type": "stream",
     "text": [
      "  Accuracy: 0.0502 (53/1056)\n",
      "Evaluating category: gram5-plural\n"
     ]
    },
    {
     "name": "stderr",
     "output_type": "stream",
     "text": [
      "100%|██████████| 1260/1260 [00:00<00:00, 2393.98it/s]\n"
     ]
    },
    {
     "name": "stdout",
     "output_type": "stream",
     "text": [
      "  Accuracy: 0.0069 (6/870)\n",
      "Evaluating category: gram6-nationality-adjective\n"
     ]
    },
    {
     "name": "stderr",
     "output_type": "stream",
     "text": [
      "100%|██████████| 1600/1600 [00:00<00:00, 863025.51it/s]\n"
     ]
    },
    {
     "name": "stdout",
     "output_type": "stream",
     "text": [
      "  No questions could be answered (words not in vocabulary)\n",
      "Evaluating category: gram7-past-tense\n"
     ]
    },
    {
     "name": "stderr",
     "output_type": "stream",
     "text": [
      "100%|██████████| 1560/1560 [00:00<00:00, 4386.64it/s]\n"
     ]
    },
    {
     "name": "stdout",
     "output_type": "stream",
     "text": [
      "  Accuracy: 0.0344 (19/552)\n",
      "Evaluating category: gram8-plural-verbs\n"
     ]
    },
    {
     "name": "stderr",
     "output_type": "stream",
     "text": [
      "100%|██████████| 870/870 [00:00<00:00, 8519.14it/s]"
     ]
    },
    {
     "name": "stdout",
     "output_type": "stream",
     "text": [
      "  Accuracy: 0.0000 (0/56)\n",
      "\n",
      "Overall accuracy: 0.0270 (105/3890)\n",
      "Skipped questions: 27672\n",
      "Saved correct analogies to results/correct_analogies_model.md\n",
      "  Accuracy: 0.0270, Skipped: 27672\n"
     ]
    },
    {
     "name": "stderr",
     "output_type": "stream",
     "text": [
      "\n"
     ]
    }
   ],
   "source": [
    "# Word analogy task from Grave et al., 2018\n",
    "# Source: https://fasttext.cc/docs/en/crawl-vectors.html\n",
    "analogies_dataset_url = \"https://dl.fbaipublicfiles.com/fasttext/word-analogies/questions-words-fr.txt\"\n",
    "\n",
    "# Evaluate the full model and save correct analogies\n",
    "analogies_test_results_df = validate_word_embeddings_on_analogies(\n",
    "    models['all'], \n",
    "    save_correct=True\n",
    "    )"
   ]
  },
  {
   "cell_type": "code",
   "execution_count": null,
   "metadata": {},
   "outputs": [
    {
     "name": "stdout",
     "output_type": "stream",
     "text": [
      "\n",
      "Category Performance (best to worst):\n",
      "  family: 0.1106\n",
      "  gram4-past-participle: 0.0502\n",
      "  gram7-past-tense: 0.0344\n",
      "  gram5-plural: 0.0069\n",
      "  gram2-opposite: 0.0055\n",
      "  antonyms-adjectives: 0.0055\n",
      "  gram1-adjective-to-adverb: 0.0000\n",
      "  gram3-present-participle: 0.0000\n",
      "  gram8-plural-verbs: 0.0000\n"
     ]
    }
   ],
   "source": [
    "# Get best and worst categories\n",
    "# Get all category columns\n",
    "category_columns = [col for col in analogies_test_results_df.columns \n",
    "                    if col not in ['Model', 'Overall_Accuracy', 'Skipped_Questions']]\n",
    "\n",
    "# Sort categories by accuracy\n",
    "if category_columns:\n",
    "    # Get category accuracies from the single row, filtering out None values\n",
    "    categories_acc = [(cat, analogies_test_results_df.iloc[0][cat]) for cat in category_columns if analogies_test_results_df.iloc[0][cat] is not None]\n",
    "    # Sort by accuracy (descending)\n",
    "    sorted_categories = sorted(categories_acc, key=lambda x: x[1], reverse=True)\n",
    "    \n",
    "    print(\"\\nCategory Performance (best to worst):\")\n",
    "    for category, acc in sorted_categories:\n",
    "        print(f\"  {category}: {acc:.4f}\")"
   ]
  },
  {
   "cell_type": "code",
   "execution_count": null,
   "metadata": {},
   "outputs": [
    {
     "name": "stdout",
     "output_type": "stream",
     "text": [
      "Downloading analogy dataset...\n",
      "Parsed 14 categories with a total of 31562 questions\n",
      "\n",
      "Evaluating model: all\n",
      "Saved correct analogies to results/correct_analogies_all.md\n",
      "  Accuracy: 0.0270, Skipped: 27672\n",
      "\n",
      "Evaluating model: 2020s\n",
      "Saved correct analogies to results/correct_analogies_2020s.md\n",
      "  Accuracy: 0.0087, Skipped: 28462\n",
      "\n",
      "Evaluating model: 2010s\n",
      "Saved correct analogies to results/correct_analogies_2010s.md\n",
      "  Accuracy: 0.0069, Skipped: 28805\n",
      "\n",
      "Evaluating model: 1990s-2000s\n",
      "Saved correct analogies to results/correct_analogies_1990s-2000s.md\n",
      "  Accuracy: 0.0094, Skipped: 29530\n"
     ]
    }
   ],
   "source": [
    "analogies_results_df_all_models = validate_word_embeddings_on_analogies(models, save_correct=True)"
   ]
  },
  {
   "cell_type": "markdown",
   "metadata": {},
   "source": [
    "**!! Limitation of the study: No extrinsic evaluation !!**\n",
    "\n",
    "Extrinsic evaluation, which consists of testing the word embeddings on external tasks such as NER or parts-of-speech tagging, would allow to evaluate the actual usefulness of the embeddings."
   ]
  },
  {
   "cell_type": "markdown",
   "metadata": {},
   "source": [
    "## Gender Stereotypes Analysis"
   ]
  }
 ],
 "metadata": {
  "kernelspec": {
   "display_name": "nlp-summative",
   "language": "python",
   "name": "python3"
  },
  "language_info": {
   "codemirror_mode": {
    "name": "ipython",
    "version": 3
   },
   "file_extension": ".py",
   "mimetype": "text/x-python",
   "name": "python",
   "nbconvert_exporter": "python",
   "pygments_lexer": "ipython3",
   "version": "3.10.16"
  }
 },
 "nbformat": 4,
 "nbformat_minor": 2
}
