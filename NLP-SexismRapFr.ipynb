{
 "cells": [
  {
   "cell_type": "code",
   "execution_count": 3,
   "metadata": {},
   "outputs": [
    {
     "name": "stdout",
     "output_type": "stream",
     "text": [
      "All top-level keys in the JSON file:\n",
      "['allSongs', 'allArtists']\n",
      "allSongs: List with 2159 items\n",
      "allArtists: List with 630 items\n"
     ]
    }
   ],
   "source": [
    "import json\n",
    "import pandas as pd\n",
    "\n",
    "with open('data/frenchDataOldSongs.json', 'r') as file:\n",
    "    data = json.load(file)\n",
    "\n",
    "# Print all top-level keys\n",
    "print(\"All top-level keys in the JSON file:\")\n",
    "print(list(data.keys()))\n",
    "\n",
    "# For each top-level key, show the type and size\n",
    "for key in data.keys():\n",
    "    if isinstance(data[key], list):\n",
    "        print(f\"{key}: List with {len(data[key])} items\")\n",
    "    elif isinstance(data[key], dict):\n",
    "        print(f\"{key}: Dictionary with {len(data[key])} keys\")\n",
    "    else:\n",
    "        print(f\"{key}: {type(data[key]).__name__}\")"
   ]
  },
  {
   "cell_type": "code",
   "execution_count": 5,
   "metadata": {},
   "outputs": [
    {
     "name": "stdout",
     "output_type": "stream",
     "text": [
      "Songs DataFrame info:\n",
      "<class 'pandas.core.frame.DataFrame'>\n",
      "RangeIndex: 2159 entries, 0 to 2158\n",
      "Data columns (total 6 columns):\n",
      " #   Column       Non-Null Count  Dtype \n",
      "---  ------       --------------  ----- \n",
      " 0   id           2159 non-null   int64 \n",
      " 1   name         2159 non-null   object\n",
      " 2   artists      2159 non-null   object\n",
      " 3   releaseDate  2159 non-null   object\n",
      " 4   popularity   2159 non-null   int64 \n",
      " 5   lyrics       2159 non-null   object\n",
      "dtypes: int64(2), object(4)\n",
      "memory usage: 101.3+ KB\n",
      "None\n",
      "\n",
      "First 5 songs:\n",
      "   id                     name artists releaseDate  popularity  \\\n",
      "0   0  Sexe, pouvoir & biftons     [0]  1998-06-04          36   \n",
      "1   1              #BaWéMonAmi     [1]  2015-10-10          12   \n",
      "2   2   Côté obscur Connection  [2, 3]  1997-11-13          20   \n",
      "3   3              Bouge de là     [4]  1998-10-02          29   \n",
      "4   4     La Rue Est Vers l'Or  [5, 6]  2011-11-28           0   \n",
      "\n",
      "                                              lyrics  \n",
      "0  [Paroles de \"Sexe, pouvoir & biftons\"]\\n\\n[Int...  \n",
      "1  [Paroles de \"#BaWéMonAmi\"]\\n\\n[Couplet 1]\\nPar...  \n",
      "2                                                     \n",
      "3  [Couplet]\\nTout a commencé là-bas, dans la vil...  \n",
      "4                                                     \n",
      "\n",
      "Artists DataFrame info:\n",
      "<class 'pandas.core.frame.DataFrame'>\n",
      "RangeIndex: 630 entries, 0 to 629\n",
      "Data columns (total 4 columns):\n",
      " #   Column     Non-Null Count  Dtype \n",
      "---  ------     --------------  ----- \n",
      " 0   id         630 non-null    int64 \n",
      " 1   name       630 non-null    object\n",
      " 2   birthDate  630 non-null    object\n",
      " 3   birthArea  630 non-null    object\n",
      "dtypes: int64(1), object(3)\n",
      "memory usage: 19.8+ KB\n",
      "None\n",
      "\n",
      "First 5 artists:\n",
      "   id          name   birthDate birthArea\n",
      "0   0       Ärsenik        1992          \n",
      "1   1          Niro  1987-07-08   Orléans\n",
      "2   2        Kheops  1966-05-04          \n",
      "3   3  Pit Baccardi  1978-06-09   Yaoundé\n",
      "4   4     MC Solaar  1969-03-05     Dakar\n"
     ]
    }
   ],
   "source": [
    "# Create DataFrames\n",
    "old_songs_df = pd.DataFrame(data['allSongs'])\n",
    "old_artists_df = pd.DataFrame(data['allArtists'])\n",
    "\n",
    "# Display basic information about the DataFrames\n",
    "print(\"Songs DataFrame info:\")\n",
    "print(old_songs_df.info())\n",
    "print(\"\\nFirst 5 songs:\")\n",
    "print(old_songs_df.head())\n",
    "\n",
    "print(\"\\nArtists DataFrame info:\")\n",
    "print(old_artists_df.info())\n",
    "print(\"\\nFirst 5 artists:\")\n",
    "print(old_artists_df.head())"
   ]
  }
 ],
 "metadata": {
  "kernelspec": {
   "display_name": "nlp-summative",
   "language": "python",
   "name": "python3"
  },
  "language_info": {
   "codemirror_mode": {
    "name": "ipython",
    "version": 3
   },
   "file_extension": ".py",
   "mimetype": "text/x-python",
   "name": "python",
   "nbconvert_exporter": "python",
   "pygments_lexer": "ipython3",
   "version": "3.10.16"
  }
 },
 "nbformat": 4,
 "nbformat_minor": 2
}
