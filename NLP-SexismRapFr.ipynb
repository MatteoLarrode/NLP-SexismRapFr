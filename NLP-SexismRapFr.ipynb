{
 "cells": [
  {
   "cell_type": "markdown",
   "metadata": {},
   "source": [
    "# Semantic analysis of sexism in French Rap using word embeddings\n",
    "\n",
    "Natural Language Processing for the Social Sciences\n",
    "\n",
    "Matteo Larrode, MSc Social Data Science"
   ]
  },
  {
   "cell_type": "markdown",
   "metadata": {},
   "source": [
    "## Setup"
   ]
  },
  {
   "cell_type": "code",
   "execution_count": 28,
   "metadata": {},
   "outputs": [
    {
     "name": "stdout",
     "output_type": "stream",
     "text": [
      "The autoreload extension is already loaded. To reload it, use:\n",
      "  %reload_ext autoreload\n"
     ]
    }
   ],
   "source": [
    "%load_ext autoreload\n",
    "%autoreload 2"
   ]
  },
  {
   "cell_type": "code",
   "execution_count": null,
   "metadata": {},
   "outputs": [],
   "source": [
    "# Data is from 2024 ACL-SRW paper \"A Computational Analysis and Exploration of Linguistic Borrowings in French Rap Lyrics\" by Lucas Zurbuchen and Rob Voigt.\n",
    "# Paper: https://aclanthology.org/2024.acl-srw.27.pdf\n",
    "# Source: https://github.com/ljz112/CLResearch/tree/main/dataEntries\n",
    "\n",
    "# Download the data from the GitHub repository & create csv files:\n",
    "# python data_setup.py\n",
    "# Or to skip the download:\n",
    "# python data_setup.py --skip-download"
   ]
  },
  {
   "cell_type": "code",
   "execution_count": 1,
   "metadata": {},
   "outputs": [
    {
     "name": "stdout",
     "output_type": "stream",
     "text": [
      "<class 'pandas.core.frame.DataFrame'>\n",
      "Index: 8665 entries, 0 to 11655\n",
      "Data columns (total 10 columns):\n",
      " #   Column          Non-Null Count  Dtype \n",
      "---  ------          --------------  ----- \n",
      " 0   id              8665 non-null   int64 \n",
      " 1   name            8665 non-null   object\n",
      " 2   artists         8665 non-null   object\n",
      " 3   releaseDate     8665 non-null   object\n",
      " 4   popularity      8665 non-null   int64 \n",
      " 5   lyrics          8665 non-null   object\n",
      " 6   cleaned_lyrics  8665 non-null   object\n",
      " 7   is_french       8665 non-null   bool  \n",
      " 8   year            8665 non-null   int64 \n",
      " 9   decade          8665 non-null   object\n",
      "dtypes: bool(1), int64(3), object(6)\n",
      "memory usage: 685.4+ KB\n",
      "<class 'list'>\n",
      "['moi', 'je', 'sais', 'ce', 'que', 'veux', 'tu', 'sais', 'est', 'quoi', 'mon', 'but', 'etre', 'un', 'putain', 'de', 'bourgeois', 'gagner', 'du', 'ble', 'rien', 'glander', 'je', 'ne', 'veux', 'surtout', 'pas', 'retourner', 'ou', 'etais', 'je', 'ne', 'veux', 'plus', 'cirer', 'les', 'pompes', 'un', 'encule', 'pour', 'avoir', 'de', 'quoi', 'vivre', 'ai', 'sourire', 'tant', 'que', 'manque', 'pas', 'billets', 'banque', 'de', 'plaisirs', 'charnels', 'blinde', 'comme', 'un', 'tank', 'pris', 'sous', 'le', 'charme', 'gonfle', 'comme', 'une', 'grosse', 'paire', 'de', 'mamelles', 'moi', 'fric', 'ca', 'fait', 'bander', 'comme', 'le', 'boule', 'julia', 'channel', 'demandez', 'mes', 'partenaires', 'qu', 'est', 'ce', 'qui', 'fait', 'tourner', 'la', 'planete', 'le', 'sexe', 'les', 'biftons', 'le', 'pouvoir', 'et', 'les', 'business']\n"
     ]
    }
   ],
   "source": [
    "# Load the data\n",
    "import pandas as pd\n",
    "\n",
    "songs_df = pd.read_pickle('data/processed_french_rap_songs.pkl')\n",
    "\n",
    "songs_df.info()\n",
    "\n",
    "print(type(songs_df['cleaned_lyrics'].iloc[0]))\n",
    "print(songs_df['cleaned_lyrics'].iloc[0][:100])"
   ]
  },
  {
   "cell_type": "markdown",
   "metadata": {},
   "source": [
    "## Word Embedding Training"
   ]
  },
  {
   "cell_type": "code",
   "execution_count": 2,
   "metadata": {},
   "outputs": [],
   "source": [
    "# Code inspired from Schmahl, K. G., Viering, T., Makrodimitris, S., Jahfari, A. N., Tax, D., & Loog, M. (2020). Is Wikipedia succeeding in reducing gender bias? Assessing changes in gender bias in Wikipedia using word embeddings. NLPCSS. https://doi.org/10.18653/V1/2020.NLPCSS-1.11\n",
    "# https://gitlab.com/kschmahl/wikipedia-gender-bias-over-time/\n",
    "from gensim.models import Word2Vec\n",
    "\n",
    "w2v_model = Word2Vec(\n",
    "    window=10,\n",
    "    min_count=5,\n",
    "    workers=4,\n",
    ")\n",
    "\n",
    "w2v_model.build_vocab(songs_df['cleaned_lyrics'])"
   ]
  },
  {
   "cell_type": "code",
   "execution_count": 3,
   "metadata": {},
   "outputs": [
    {
     "name": "stdout",
     "output_type": "stream",
     "text": [
      "Vocabulary size: 26144\n"
     ]
    }
   ],
   "source": [
    "# Check the vocabulary size\n",
    "print(f\"Vocabulary size: {len(w2v_model.wv.key_to_index)}\")"
   ]
  },
  {
   "cell_type": "code",
   "execution_count": 5,
   "metadata": {},
   "outputs": [
    {
     "data": {
      "text/plain": [
       "(15497923, 20912735)"
      ]
     },
     "execution_count": 5,
     "metadata": {},
     "output_type": "execute_result"
    }
   ],
   "source": [
    "# Train the model\n",
    "w2v_model.train(\n",
    "    songs_df['cleaned_lyrics'],\n",
    "    total_examples=w2v_model.corpus_count,\n",
    "    epochs=w2v_model.epochs,\n",
    ")"
   ]
  },
  {
   "cell_type": "code",
   "execution_count": 6,
   "metadata": {},
   "outputs": [],
   "source": [
    "# Save the model\n",
    "w2v_model.save('models/word2vec_french_rap_1.model')"
   ]
  },
  {
   "cell_type": "markdown",
   "metadata": {},
   "source": [
    "## Word Embedding Validation"
   ]
  },
  {
   "cell_type": "code",
   "execution_count": 16,
   "metadata": {},
   "outputs": [
    {
     "data": {
      "text/plain": [
       "[('veneneux', 0.5968782901763916),\n",
       " ('adapter', 0.5812106728553772),\n",
       " ('julien', 0.5681294202804565),\n",
       " ('catamaran', 0.5611140131950378),\n",
       " ('licencier', 0.5585771203041077),\n",
       " ('nettoyage', 0.5571639537811279),\n",
       " ('brad', 0.5561196208000183),\n",
       " ('jaguar', 0.555712878704071),\n",
       " ('poup', 0.554553210735321),\n",
       " ('brinks', 0.5511651039123535)]"
      ]
     },
     "execution_count": 16,
     "metadata": {},
     "output_type": "execute_result"
    }
   ],
   "source": [
    "# Check similarity\n",
    "w2v_model.wv.most_similar(\"menage\", topn=10)"
   ]
  },
  {
   "cell_type": "markdown",
   "metadata": {},
   "source": [
    "## Gender Stereotypes Analysis"
   ]
  }
 ],
 "metadata": {
  "kernelspec": {
   "display_name": "nlp-summative",
   "language": "python",
   "name": "python3"
  },
  "language_info": {
   "codemirror_mode": {
    "name": "ipython",
    "version": 3
   },
   "file_extension": ".py",
   "mimetype": "text/x-python",
   "name": "python",
   "nbconvert_exporter": "python",
   "pygments_lexer": "ipython3",
   "version": "3.10.16"
  }
 },
 "nbformat": 4,
 "nbformat_minor": 2
}
