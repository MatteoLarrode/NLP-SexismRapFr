{
 "cells": [
  {
   "cell_type": "markdown",
   "metadata": {},
   "source": [
    "# Semantic analysis of sexism in French Rap using word embeddings\n",
    "\n",
    "Natural Language Processing for the Social Sciences\n",
    "\n",
    "Matteo Larrode, MSc Social Data Science"
   ]
  },
  {
   "cell_type": "markdown",
   "metadata": {},
   "source": [
    "## Setup"
   ]
  },
  {
   "cell_type": "code",
   "execution_count": 1,
   "metadata": {},
   "outputs": [],
   "source": [
    "%load_ext autoreload\n",
    "%autoreload 2"
   ]
  },
  {
   "cell_type": "code",
   "execution_count": null,
   "metadata": {},
   "outputs": [],
   "source": [
    "# Data is from 2024 ACL-SRW paper \"A Computational Analysis and Exploration of Linguistic Borrowings in French Rap Lyrics\" by Lucas Zurbuchen and Rob Voigt.\n",
    "# Paper: https://aclanthology.org/2024.acl-srw.27.pdf\n",
    "# Source: https://github.com/ljz112/CLResearch/tree/main/dataEntries\n",
    "\n",
    "# Download the data from the GitHub repository & create csv files:\n",
    "# !python3 data_setup.py\n",
    "# Or to skip the download:\n",
    "# !python setup_data.py --skip-download"
   ]
  },
  {
   "cell_type": "code",
   "execution_count": 1,
   "metadata": {},
   "outputs": [],
   "source": [
    "# Load the data\n",
    "import pandas as pd\n",
    "\n",
    "songs_df = pd.read_csv('data/processed_french_rap_songs.csv')"
   ]
  },
  {
   "cell_type": "markdown",
   "metadata": {},
   "source": [
    "## Word Embedding Training"
   ]
  },
  {
   "cell_type": "markdown",
   "metadata": {},
   "source": [
    "## Word Embedding Validation"
   ]
  },
  {
   "cell_type": "markdown",
   "metadata": {},
   "source": [
    "## Gender Stereotypes Analysis"
   ]
  }
 ],
 "metadata": {
  "kernelspec": {
   "display_name": "nlp-summative",
   "language": "python",
   "name": "python3"
  },
  "language_info": {
   "codemirror_mode": {
    "name": "ipython",
    "version": 3
   },
   "file_extension": ".py",
   "mimetype": "text/x-python",
   "name": "python",
   "nbconvert_exporter": "python",
   "pygments_lexer": "ipython3",
   "version": "3.10.16"
  }
 },
 "nbformat": 4,
 "nbformat_minor": 2
}
