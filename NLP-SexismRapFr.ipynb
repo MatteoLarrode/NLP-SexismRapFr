{
 "cells": [
  {
   "cell_type": "markdown",
   "metadata": {},
   "source": [
    "# Semantic analysis of sexism in French Rap using word embeddings\n",
    "\n",
    "Natural Language Processing for the Social Sciences\n",
    "\n",
    "Matteo Larrode, MSc Social Data Science"
   ]
  },
  {
   "cell_type": "markdown",
   "metadata": {},
   "source": [
    "## Setup"
   ]
  },
  {
   "cell_type": "code",
   "execution_count": 1,
   "metadata": {},
   "outputs": [],
   "source": [
    "%load_ext autoreload\n",
    "%autoreload 2"
   ]
  },
  {
   "cell_type": "code",
   "execution_count": null,
   "metadata": {},
   "outputs": [],
   "source": [
    "import pandas as pd\n",
    "import numpy as np\n",
    "import matplotlib.pyplot as plt\n",
    "import seaborn as sns\n",
    "import os\n",
    "import pickle\n",
    "from gensim.models import Word2Vec\n",
    "from itertools import product\n",
    "\n",
    "from utils.visualisations_helpers import *\n",
    "from utils.preprocessing_helpers import *\n",
    "from utils.training_helpers import *\n",
    "from utils.validation_helpers import *\n",
    "from utils.analysis_helpers import *\n",
    "from utils.model_download_helpers import *\n",
    "\n",
    "set_visualization_style()"
   ]
  },
  {
   "cell_type": "markdown",
   "metadata": {},
   "source": [
    "## Download and preprocess the lyrics"
   ]
  },
  {
   "cell_type": "code",
   "execution_count": null,
   "metadata": {},
   "outputs": [
    {
     "name": "stdout",
     "output_type": "stream",
     "text": [
      "Downloading old songs data...\n",
      "Downloading new songs data...\n",
      "Data downloaded successfully.\n",
      "Downloaded 11656 songs\n",
      "Lyrics saved to data/french_rap_lyrics_raw.pkl\n",
      "Preprocessing 11656 songs...\n"
     ]
    },
    {
     "name": "stderr",
     "output_type": "stream",
     "text": [
      "Processing texts: 100%|██████████| 11656/11656 [00:12<00:00, 914.35it/s] \n"
     ]
    },
    {
     "name": "stdout",
     "output_type": "stream",
     "text": [
      "Preprocessing finished! 8208 songs valid.\n",
      "Corpus saved to data/processed_lyrics.pkl\n",
      "Preprocessing 11656 songs...\n"
     ]
    },
    {
     "name": "stderr",
     "output_type": "stream",
     "text": [
      "Processing texts: 100%|██████████| 11656/11656 [11:30<00:00, 16.87it/s]\n"
     ]
    },
    {
     "name": "stdout",
     "output_type": "stream",
     "text": [
      "Preprocessing finished! 8208 songs valid.\n",
      "Corpus saved to data/processed_lyrics_lemmatized.pkl\n"
     ]
    }
   ],
   "source": [
    "# Data is from 2024 ACL-SRW paper \"A Computational Analysis and Exploration of Linguistic Borrowings in French Rap Lyrics\" by Lucas Zurbuchen and Rob Voigt.\n",
    "# Paper: https://aclanthology.org/2024.acl-srw.27.pdf\n",
    "# Source: https://github.com/ljz112/CLResearch/tree/main/dataEntries \n",
    "# Download the data\n",
    "lyrics_array = download_lyrics()\n",
    "\n",
    "# Preprocess the data \n",
    "# Non-lemmatized version\n",
    "preprocess_corpus(texts=lyrics_array,\n",
    "                  lemmatize=False,\n",
    "                  save_path=\"data/processed_lyrics.pkl\")\n",
    "\n",
    "# # Lemmatized version\n",
    "# preprocess_corpus(texts=lyrics_array,\n",
    "#                   lemmatize=True,\n",
    "#                   save_path=\"data/processed_lyrics_lemmatized.pkl\")"
   ]
  },
  {
   "cell_type": "code",
   "execution_count": null,
   "metadata": {},
   "outputs": [],
   "source": [
    "# Load the data\n",
    "# Load the lyrics data\n",
    "with open(\"data/french_rap_lyrics_raw.pkl\", \"rb\") as f:\n",
    "    lyrics_df = pickle.load(f)\n",
    "\n",
    "# Load the preprocessed (non lemmatized) data\n",
    "with open(\"data/processed_lyrics.pkl\", \"rb\") as f:\n",
    "    corpus = pickle.load(f)\n",
    "\n",
    "# # Load the lemmatized data\n",
    "# with open(\"data/processed_lyrics_lemmatized.pkl\", \"rb\") as f:\n",
    "#     lemmatized_corpus = pickle.load(f)"
   ]
  },
  {
   "cell_type": "code",
   "execution_count": 5,
   "metadata": {},
   "outputs": [
    {
     "name": "stdout",
     "output_type": "stream",
     "text": [
      "Number of songs: 8208\n",
      "['moi', 'je', 'sais', 'ce', 'que', 'veux', 'tu', 'sais', 'est', 'quoi', 'mon', 'but', 'être', 'un', 'putain', 'de', 'bourgeois', 'gagner', 'du', 'blé', 'rien', 'glander', 'je', 'ne', 'veux', 'surtout', 'pas', 'retourner', 'où', 'étais', 'je', 'ne', 'veux', 'plus', 'cirer', 'les', 'pompes', 'un', 'enculé', 'pour', 'avoir', 'de', 'quoi', 'vivre', 'ai', 'sourire', 'tant', 'que', 'manque', 'pas', 'billets', 'banque', 'de', 'plaisirs', 'charnels', 'blindé', 'comme', 'un', 'tank', 'pris', 'sous', 'le', 'charme', 'gonflé', 'comme', 'une', 'grosse', 'paire', 'de', 'mamelles', 'moi', 'fric', 'ça', 'fait', 'bander', 'comme', 'le', 'boule', 'julia', 'channel', 'demandez', 'mes', 'partenaires', 'qu', 'est', 'ce', 'qui', 'fait', 'tourner', 'la', 'planète', 'le', 'sexe', 'les', 'biftons', 'le', 'pouvoir', 'et', 'les', 'business', 'pas', 'nets', 'vise', 'aux', 'manettes', 'rien', 'que', 'des', 'proxénètes', 'avise', 'les', 'maquisards', 'au', 'qg', 'eux', 'ils', 'connaissent', 'la', 'devise', 'est', 'net', 'brise', 'les', 'tabous', 'et', 'qu', 'on', 'le', 'dise', 'au', 'bout', 'du', 'rouleau', 'les', 'chiens', 'sont', 'bout', 'ils', 'gisent', 'la', 'boue', 'jusqu', 'au', 'cou', 'ici', 'beaucoup', 'misent', 'sur', 'les', 'gros', 'coups', 'méprisent', 'le', 'métro', 'boulot', 'sous', 'emprise', 'ils', 'jouent', 'du', 'teau', 'cou', 'tisent', 'attisent', 'les', 'flammes', 'convoitise', 'et', 'belles', 'femmes', 'sous', 'le', 'soleil', 'de', 'satan', 'les', 'anges', 'sont', 'infâmes', 'on', 'attend', 'au', 'pire', 'en', 'tâtant', 'plus', 'de', 'billets', 'la', 'devise', 'estropier', 'la', 'paix', 'peut', 'aller', 'rhabiller', 'la', 'crise', 'consumé', 'le', 'ghetto', 'et', 'ses', 'rejetons', 'le', 'sort', 'est', 'toujours', 'plus', 'vicieux', 'avec', 'ceux', 'qu', 'on', 'rejetés', 'les', 'jetons', 'ça', 'rentre', 'ça', 'sort', 'la', 'vie', 'est', 'pas', 'un', 'feuilleton', 'un', 'long', 'fleuve', 'tranquille', 'ou', 'un', 'putain', 'bouquin', 'feuilleter', 'cueille', 'ton', 'blé', 'mec', 'emblée', 'tous', 'les', 'scarlas', 'ressemblent', 'est', 'niqué', 'il', 'me', 'semble', 'et', 'dans', 'ce', 'maquis', 'on', 'crèvera', 'ensemble', 'la', 'gloire', 'on', 'en', 'veut', 'tous', 'ou', 'plus', 'ou', 'moins', 'une', 'parcelle', 'et', 'quand', 'regarde', 'mon', 'miroir', 'le', 'démon', 'me', 'harcèle', 'qu', 'est', 'ce', 'qui', 'fait', 'courir', 'les', 'scar', 'las', 'qu', 'est', 'ce', 'qui', 'fait', 'courir', 'les', 'scar', 'las', 'sexe', 'pouvoir', 'et', 'biftons', 'si', 'respect', 'passe', 'par', 'là', 'voilà', 'qui', 'fait', 'courir', 'les', 'scar', 'las', 'sexe', 'et', 'biftons', 'qu', 'est', 'ce', 'qui', 'fait', 'courir', 'les', 'scar', 'las', 'je', 'veux', 'le', 'monde', 'comme', 'tony', 'cocker', 'des', 'koukounes', 'comme', 'rocco', 'sans', 'ironie', 'croquer', 'la', 'vie', 'une', 'paire', 'de', 'noix', 'de', 'coco', 'en', 'ro', 'les', 'bourses', 'pleines', 'joko', 'roc', 'la', 'place', 'du', 'cœur', 'stoco', 'en', 'affaires', 'croco', 'quand', 'il', 'faut', 'plaire', 'hoche', 'la', 'tête', 'domine', 'fauche', 'mes', 'ennemis', 'accroche', 'mes', 'trophées', 'mes', 'poches', 'enflent', 'quand', 'passe', 'rue', 'saint', 'denis', 'le', 'sexe', 'le', 'pouvoir', 'et', 'les', 'biftons', 'voilà', 'pas', 'le', 'choix', 'khouya', 'le', 'respect', 'passe', 'par', 'là', 'roulez', 'avec', 'moi', 'et', 'vous', 'ne', 'regretterez', 'rien', 'rien', 'que', 'du', 'popotin', 'du', 'bon', 'vin', 'gars', 'plus', 'jamais', 'en', 'chien', 'un', 'gros', 'fer', 'jantes', 'chromées', 'chaque', 'soir', 'je', 'promets', 'un', 'bon', 'délire', 'trôner', 'dans', 'le', 'tout', 'paname', 'plein', 'goumés', 'file', 'ton', 'chichon', 'vide', 'ton', 'sac', 'fiston', 'dans', 'mon', 'pe', 'grou', 'est', 'porte', 'ouverte', 'pas', 'besoin', 'de', 'piston', 'hisse', 'ton', 'drapeau', 'noir', 'plisse', 'ton', 'front', 'garçon', 'laisse', 'ton', 'petit', 'train', 'train', 'de', 'vie', 'et', 'piston', 'le', 'succès', 'passe', 'par', 'là', 'je', 'ai', 'vu', 'mais', 'bordel', 'il', 'trace', 'je', 'ferais', 'importe', 'quoi', 'pour', 'avoir', 'ça', 'passe', 'ou', 'ça', 'casse', 'pas', 'de', 'souci', 'part', 'peut', 'être', 'la', 'couleur', 'ma', 'cravate', 'je', 'suis', 'aussi', 'beau', 'qu', 'un', 'billet', 'cinquante', 'keus', 'mate', 'le', 'traîne', 'savate', 'est', 'devenu', 'quelqu', 'un', 'mes', 'pieds', 'au', 'sol', 'ma', 'tête', 'est', 'loin', 'dans', 'ma', 'rue', 'est', 'plus', 'comme', 'avant', 'tout', 'le', 'monde', 'est', 'mon', 'copain', 'le', 'monde', 'est', 'moi', 'et', 'ai', 'les', 'pompes', 'cirées', 'je', 'inquiète', 'pas', 'pour', 'les', 'fins', 'de', 'mois', 'ai', 'déjà', 'mon', 'chèque', 'viré', 'dévoile', 'les', 'rêves', 'des', 'cages', 'escaliers', 'qu', 'est', 'ce', 'qui', 'fait', 'tourner', 'la', 'sphère', 'mon', 'gars', 'je', 'sais', 'maintenant', 'tu', 'sais', 'qu', 'est', 'ce', 'qui', 'fait', 'courir', 'les', 'scar', 'las', 'qu', 'est', 'ce', 'qui', 'fait', 'courir', 'les', 'scar', 'las', 'sexe', 'pouvoir', 'et', 'biftons', 'si', 'respect', 'passe', 'par', 'là', 'voilà', 'qui', 'fait', 'courir', 'les', 'scar', 'las', 'sexe', 'et', 'biftons', 'qu', 'est', 'ce', 'qui', 'fait', 'courir', 'les', 'scar', 'las', 'me', 'fixe', 'sur', 'le', 'mix', 'et', 'exprime', 'sans', 'complexe', 'ou', 'quand', 'le', 'sexe', 'prime', 'ma', 'rime', 'devient', 'sexplicite', 'et', 'te', 'dis', 'qu', 'ça', 'épicé', 'comme', 'au', 'tex', 'mex', 'pour', 'diksa', 'un', 'texte', 'plus', 'profond', 'qu', 'la', 'gorge', 'draghixa', 'latex', 'en', 'poche', 'durex', 'pour', 'sponsor', 'qu', 'est', 'ce', 'qui', 'fait', 'tourner', 'la', 'sphère', 'part', 'le', 'sexe', 'et', 'or', 'on', 'sort', 'pas', 'du', 'contexte', 'et', 'est', 'comme', 'dans', 'premier', 'couplet', 'es', 'un', 'mec', 'comblé', 'quand', 'fesses', 'et', 'blé', 'sont', 'accouplés', 'on', 'extasie', 'on', 'expose', 'sexe', 'comme', 'ecstasy', 'explose', 'ici', 'au', 'sussex', 'et', 'jusqu', 'en', 'asie', 'ose', 'me', 'dire', 'que', 'mon', 'rap', 'te', 'vexe', 'miss', 'on', 'excuse', 'pas', 'on', 'expose', 'les', 'faits', 'la', 'prose', 'fuse', 'sexe', 'jusqu', 'excès', 'ce', 'lyrics', 'est', 'clair', 'argent', 'pas', 'odeur', 'mon', 'frère', 'mais', 'la', 'femme', 'du', 'flair', 'la', 'jalousie', 'ronge', 'envieux', 'comme', 'la', 'rouille', 'ronge', 'le', 'fer', 'on', 'ira', 'tous', 'au', 'paradis', 'car', 'est', 'ici', 'enfer', 'aucun', 'tact', 'rien', 'que', 'des', 'pactes', 'du', 'buis', 'traque', 'pour', 'la', 'monnaie', 'sacs', 'bourrés', 'chaque', 'soir', 'braque', 'des', 'tas', 'de', 'poupées', 'coupé', 'cab', 'respect', 'passe', 'le', 'pouvoir', 'tout', 'est', 'donné', 'moi', 'la', 'place', 'qui', 'revient', 'sous', 'le', 'chaud', 'soleil', 'du', 'tanché', 'hacher', 'fin', 'cacher', 'dans', 'un', 'trou', 'bâcher', 'celui', 'qui', 'me', 'fâche', 'et', 'arracher', 'de', 'la', 'zone', 'tous', 'ceux', 'qui', 'avec', 'moi', 'veulent', 'marcher', 'le', 'sexe', 'le', 'pouvoir', 'et', 'les', 'biftons', 'voilà', 'pas', 'choix', 'mon', 'gars', 'le', 'respect', 'passe', 'par', 'là', 'qu', 'est', 'ce', 'qui', 'fait', 'courir', 'les', 'scar', 'las', 'qu', 'est', 'ce', 'qui', 'fait', 'courir', 'les', 'scar', 'las', 'sexe', 'pouvoir', 'et', 'biftons', 'si', 'respect', 'passe', 'par', 'là', 'voilà', 'qui', 'fait', 'courir', 'les', 'scar', 'las', 'sexe', 'et', 'biftons', 'qu', 'est', 'ce', 'qui', 'fait', 'courir', 'les', 'scar', 'las']\n"
     ]
    }
   ],
   "source": [
    "print(f\"Number of songs: {len(corpus)}\")\n",
    "print(corpus[0])"
   ]
  },
  {
   "cell_type": "markdown",
   "metadata": {},
   "source": [
    "## Word Embeddings Training"
   ]
  },
  {
   "cell_type": "markdown",
   "metadata": {},
   "source": [
    "Code inspired from Schmahl, K. G., Viering, T., Makrodimitris, S., Jahfari, A. N., Tax, D., & Loog, M. (2020). Is Wikipedia succeeding in reducing gender bias? Assessing changes in gender bias in Wikipedia using word embeddings. NLPCSS. https://doi.org/10.18653/V1/2020.NLPCSS-1.11\n",
    "\n",
    "https://gitlab.com/kschmahl/wikipedia-gender-bias-over-time/"
   ]
  },
  {
   "cell_type": "code",
   "execution_count": null,
   "metadata": {},
   "outputs": [
    {
     "name": "stdout",
     "output_type": "stream",
     "text": [
      "Training Word2Vec model...\n",
      "Model saved to models/frRap_non_lemma_skipgram_100_5/model\n",
      "Vocabulary saved to models/frRap_non_lemma_skipgram_100_5/vocab.pkl\n",
      "Vectors saved to models/frRap_non_lemma_skipgram_100_5/vectors.npy\n",
      "All model files saved in: models/frRap_non_lemma_skipgram_100_5\n"
     ]
    }
   ],
   "source": [
    "# Define model output directory\n",
    "model_dir = 'models'\n",
    "\n",
    "# Set training parameters\n",
    "train_params = {\n",
    "    'lemmatized': False,  # Pass the lemmatization status\n",
    "    'vector_size': 100,   # Dimensionality of word vectors\n",
    "    'window': 10,         # Maximum distance between current and predicted word\n",
    "    'min_count': 5,       # Minimum count of words to consider\n",
    "    'sg': 1,              # 1 for skip-gram, 0 for CBOW\n",
    "    'epochs': 5,         \n",
    "    'workers': 4,         # Number of CPU cores to use\n",
    "    'seed': 42            # For reproducibility\n",
    "}\n",
    "\n",
    "# Train the model\n",
    "print(\"Training Word2Vec model...\")\n",
    "model = train_word2vec(\n",
    "    corpus=corpus,\n",
    "    output_dir=model_dir,\n",
    "    **train_params\n",
    ")"
   ]
  },
  {
   "cell_type": "code",
   "execution_count": null,
   "metadata": {},
   "outputs": [
    {
     "name": "stdout",
     "output_type": "stream",
     "text": [
      "Training model 1/10 | cbow, dim=200, min_count=0, lemmatized=False\n",
      "Model saved to models/frRap_non_lemma_cbow_200_0/model\n",
      "Vocabulary saved to models/frRap_non_lemma_cbow_200_0/vocab.pkl\n",
      "Vectors saved to models/frRap_non_lemma_cbow_200_0/vectors.npy\n",
      "All model files saved in: models/frRap_non_lemma_cbow_200_0\n",
      "Training model 2/10 | cbow, dim=200, min_count=100, lemmatized=False\n",
      "Model saved to models/frRap_non_lemma_cbow_200_100/model\n",
      "Vocabulary saved to models/frRap_non_lemma_cbow_200_100/vocab.pkl\n",
      "Vectors saved to models/frRap_non_lemma_cbow_200_100/vectors.npy\n",
      "All model files saved in: models/frRap_non_lemma_cbow_200_100\n",
      "Training model 3/10 | skipgram, dim=200, min_count=100, lemmatized=False\n",
      "Model saved to models/frRap_non_lemma_skipgram_200_100/model\n",
      "Vocabulary saved to models/frRap_non_lemma_skipgram_200_100/vocab.pkl\n",
      "Vectors saved to models/frRap_non_lemma_skipgram_200_100/vectors.npy\n",
      "All model files saved in: models/frRap_non_lemma_skipgram_200_100\n",
      "Training model 4/10 | skipgram, dim=500, min_count=100, lemmatized=False\n",
      "Model saved to models/frRap_non_lemma_skipgram_500_100/model\n",
      "Vocabulary saved to models/frRap_non_lemma_skipgram_500_100/vocab.pkl\n",
      "Vectors saved to models/frRap_non_lemma_skipgram_500_100/vectors.npy\n",
      "All model files saved in: models/frRap_non_lemma_skipgram_500_100\n",
      "Training model 5/10 | cbow, dim=500, min_count=100, lemmatized=True\n",
      "Model saved to models/frRap_lemma_cbow_500_100/model\n",
      "Vocabulary saved to models/frRap_lemma_cbow_500_100/vocab.pkl\n",
      "Vectors saved to models/frRap_lemma_cbow_500_100/vectors.npy\n",
      "All model files saved in: models/frRap_lemma_cbow_500_100\n",
      "Training model 6/10 | skipgram, dim=500, min_count=100, lemmatized=True\n",
      "Model saved to models/frRap_lemma_skipgram_500_100/model\n",
      "Vocabulary saved to models/frRap_lemma_skipgram_500_100/vocab.pkl\n",
      "Vectors saved to models/frRap_lemma_skipgram_500_100/vectors.npy\n",
      "All model files saved in: models/frRap_lemma_skipgram_500_100\n",
      "Training model 7/10 | skipgram, dim=700, min_count=50, lemmatized=True\n",
      "Model saved to models/frRap_lemma_skipgram_700_50/model\n",
      "Vocabulary saved to models/frRap_lemma_skipgram_700_50/vocab.pkl\n",
      "Vectors saved to models/frRap_lemma_skipgram_700_50/vectors.npy\n",
      "All model files saved in: models/frRap_lemma_skipgram_700_50\n",
      "Training model 8/10 | skipgram, dim=700, min_count=50, lemmatized=True\n",
      "Model saved to models/frRap_lemma_skipgram_700_50/model\n",
      "Vocabulary saved to models/frRap_lemma_skipgram_700_50/vocab.pkl\n",
      "Vectors saved to models/frRap_lemma_skipgram_700_50/vectors.npy\n",
      "All model files saved in: models/frRap_lemma_skipgram_700_50\n",
      "Training model 9/10 | cbow, dim=500, min_count=10, lemmatized=True\n",
      "Model saved to models/frRap_lemma_cbow_500_10/model\n",
      "Vocabulary saved to models/frRap_lemma_cbow_500_10/vocab.pkl\n",
      "Vectors saved to models/frRap_lemma_cbow_500_10/vectors.npy\n",
      "All model files saved in: models/frRap_lemma_cbow_500_10\n",
      "Training model 10/10 | cbow, dim=700, min_count=100, lemmatized=True\n",
      "Model saved to models/frRap_lemma_cbow_700_100/model\n",
      "Vocabulary saved to models/frRap_lemma_cbow_700_100/vocab.pkl\n",
      "Vectors saved to models/frRap_lemma_cbow_700_100/vectors.npy\n",
      "All model files saved in: models/frRap_lemma_cbow_700_100\n"
     ]
    }
   ],
   "source": [
    "# Train a variety of models\n",
    "model_dir = 'models'\n",
    "\n",
    "# Fixed training parameters\n",
    "fixed_params = {\n",
    "    'window': 10,\n",
    "    'epochs': 5,\n",
    "    'workers': 4,\n",
    "    'seed': 42\n",
    "}\n",
    "\n",
    "# Let's train embeddings, some with the same parameteras as Fauconier (2015)\n",
    "model_configs = [\n",
    "    {'vector_size': 100, 'window': 5, 'min_count': 5,   'sg': 1},   # model 1\n",
    "    {'vector_size': 100, 'window': 10, 'min_count': 5,  'sg': 1},   # model 2\n",
    "    {'vector_size': 100, 'window': 15, 'min_count': 5,  'sg': 1},   # model 3\n",
    "    {'vector_size': 100, 'window': 10, 'min_count': 10, 'sg': 1},   # model 4\n",
    "    {'vector_size': 100, 'window': 10, 'min_count': 5,  'sg': 0},   # model 5\n",
    "\n",
    "    {'vector_size': 200, 'window': 10, 'min_count': 0,  'sg': 0},   # model Fauconier (2015) - FrWac\n",
    "    {'vector_size': 200, 'window': 10, 'min_count': 5,  'sg': 1},   # model 7\n",
    "    {'vector_size': 100, 'window': 10, 'min_count': 5,   'sg': 1}, # model Fauconier (2015)\n",
    "]\n",
    "\n",
    "# Train each model\n",
    "for i, config in enumerate(model_configs, 1):\n",
    "    vector_size = config['vector_size']\n",
    "    min_count = config['min_count']\n",
    "    sg = config['sg']\n",
    "    algo = 'skipgram' if sg == 1 else 'cbow'\n",
    "    lemmatized = config.get('lemmatized', False)\n",
    "\n",
    "    print(f\"Training model {i}/10 | {algo}, dim={vector_size}, min_count={min_count}, lemmatized={lemmatized}\")\n",
    "\n",
    "    # Merge parameters\n",
    "    train_params = {\n",
    "        'vector_size': vector_size,\n",
    "        'min_count': min_count,\n",
    "        'sg': sg,\n",
    "        'lemmatized': lemmatized,\n",
    "        **fixed_params\n",
    "    }\n",
    "\n",
    "    # Train the model (if gets saved automatically to a subdirectory)\n",
    "    model = train_word2vec(\n",
    "        corpus=corpus,\n",
    "        output_dir=model_dir,\n",
    "        **train_params\n",
    "    )"
   ]
  },
  {
   "cell_type": "markdown",
   "metadata": {},
   "source": [
    "## Comparing to off-the-shelf French word embeddings\n",
    "\n",
    "### Word2Vec (2015)\n",
    "\n",
    "Source: https://fauconnier.github.io/#data\n",
    "\n",
    "1. frWac2Vec\n",
    "    - Trained on the FrWac corpus (1.6 billion words)\n",
    "    - Available in a CBOW & skip-gram, dimensions (200, 500, 700, 1000), and cutoffs (0, 10, 50, 100, 200)\n",
    "\n",
    "2. frWiki2Vec\n",
    "    - Trained on the FrWiki dump (600 millions words)\n",
    "    - Available in a CBOW & skip-gram, dimensions (500, 700, 1000), and cutoffs (10, 100, 200)\n",
    "\n",
    "### Word2Vec (2022)\n",
    "\n",
    "The most recent French Word2Vec embeddings were created by Abdine et al. (2022). \n",
    "\n",
    "1. Two models were trained on a 33GB shuffled portion of the French corpus used to train FlauBERT\n",
    "\n",
    "2. The other two models were trained on the 33GB deduplicated French corpus collected from the web\n",
    "\n",
    "However, the embeddings are only available upon request at http://nlp.polytechnique.fr/#french. I requested them on the 03/04, but did not get a response. The authors use the models from Fauconnier (2015) as the baseline in their experiment. \n",
    "\n",
    "### fastText\n",
    "\n",
    "Source: https://fasttext.cc/docs/en/crawl-vectors.html\n",
    "\n",
    "\"We distribute pre-trained word vectors for 157 languages, trained on Common Crawl and Wikipedia using fastText. These models were trained using CBOW with position-weights, in dimension 300, with character n-grams of length 5, a window of size 5 and 10 negatives. We also distribute three new word analogy datasets, for French, Hindi and Polish.\""
   ]
  },
  {
   "cell_type": "code",
   "execution_count": null,
   "metadata": {},
   "outputs": [],
   "source": [
    "# Load the Fauconier (2015) models\n"
   ]
  },
  {
   "cell_type": "markdown",
   "metadata": {},
   "source": [
    "## Word Embedding Validation"
   ]
  },
  {
   "cell_type": "code",
   "execution_count": 25,
   "metadata": {},
   "outputs": [
    {
     "name": "stdout",
     "output_type": "stream",
     "text": [
      "Loading models...\n",
      "Loaded model: frRap_non_lemma_skipgram_200_100\n",
      "Loaded model: frRap_non_lemma_cbow_200_100\n",
      "Loaded model: frRap_lemma_skipgram_500_100\n",
      "Loaded model: frRap_lemma_cbow_500_10\n",
      "Loaded model: frRap_non_lemma_skipgram_500_100\n",
      "Loaded model: frRap_lemma_skipgram_700_50\n",
      "Loaded model: frRap_non_lemma_skipgram_100_5\n",
      "Loaded model: frRap_non_lemma_cbow_200_0\n",
      "Loaded model: frRap_lemma_cbow_500_100\n",
      "Loaded model: frRap_lemma_cbow_700_100\n",
      "\n",
      "Loaded 10 models:\n",
      "  frRap_non_lemma_skipgram_200_100:\n",
      "      Vocabulary size: 3246 \n",
      "      3,368,136 tokens \n",
      "      Vector size: 200\n",
      "  frRap_non_lemma_cbow_200_100:\n",
      "      Vocabulary size: 3246 \n",
      "      3,368,136 tokens \n",
      "      Vector size: 200\n",
      "  frRap_lemma_skipgram_500_100:\n",
      "      Vocabulary size: 3246 \n",
      "      3,368,136 tokens \n",
      "      Vector size: 500\n",
      "  frRap_lemma_cbow_500_10:\n",
      "      Vocabulary size: 16998 \n",
      "      3,774,821 tokens \n",
      "      Vector size: 500\n",
      "  frRap_non_lemma_skipgram_500_100:\n",
      "      Vocabulary size: 3246 \n",
      "      3,368,136 tokens \n",
      "      Vector size: 500\n",
      "  frRap_lemma_skipgram_700_50:\n",
      "      Vocabulary size: 5553 \n",
      "      3,529,168 tokens \n",
      "      Vector size: 700\n",
      "  frRap_non_lemma_skipgram_100_5:\n",
      "      Vocabulary size: 26149 \n",
      "      3,835,340 tokens \n",
      "      Vector size: 100\n",
      "  frRap_non_lemma_cbow_200_0:\n",
      "      Vocabulary size: 74043 \n",
      "      3,914,789 tokens \n",
      "      Vector size: 200\n",
      "  frRap_lemma_cbow_500_100:\n",
      "      Vocabulary size: 3246 \n",
      "      3,368,136 tokens \n",
      "      Vector size: 500\n",
      "  frRap_lemma_cbow_700_100:\n",
      "      Vocabulary size: 3246 \n",
      "      3,368,136 tokens \n",
      "      Vector size: 700\n"
     ]
    }
   ],
   "source": [
    "# Load all trained models\n",
    "print(\"Loading models...\")\n",
    "models = load_models_from_directory('models')\n",
    "\n",
    "print(f\"\\nLoaded {len(models)} models:\")\n",
    "for model_name, model in models.items():\n",
    "    vocab_size = len(model.wv.index_to_key)\n",
    "    vector_size = model.vector_size\n",
    "    # Calculate the total number of tokens (sum of word counts)\n",
    "    total_tokens = sum(model.wv.get_vecattr(word, \"count\") for word in model.wv.index_to_key)\n",
    "    print(f\"  {model_name}:\\n      Vocabulary size: {vocab_size} \\n      {total_tokens:,} tokens \\n      Vector size: {vector_size}\")"
   ]
  },
  {
   "cell_type": "code",
   "execution_count": 18,
   "metadata": {},
   "outputs": [
    {
     "name": "stdout",
     "output_type": "stream",
     "text": [
      "\n",
      "Selected model for validation: frRap_non_lemma_skipgram_100_5\n"
     ]
    }
   ],
   "source": [
    "model_to_validate = list(models.values())[0] if models else None\n",
    "\n",
    "if model_to_validate is None:\n",
    "    print(\"No models found! Please train a model first.\")\n",
    "else:\n",
    "    print(f\"\\nSelected model for validation: {model_to_validate.name}\")"
   ]
  },
  {
   "cell_type": "markdown",
   "metadata": {},
   "source": [
    "### Intrinsic Evaluation 1 - Clustering and visualisation"
   ]
  },
  {
   "cell_type": "markdown",
   "metadata": {},
   "source": [
    "To get a first idea of their validity, I use k-means clustering on the word embeddings, then visualise the results after reducing dimensionality with t-SNE."
   ]
  },
  {
   "cell_type": "code",
   "execution_count": null,
   "metadata": {},
   "outputs": [
    {
     "data": {
      "image/png": "[encoded data removed]",
      "text/plain": [
       "<Figure size 1200x1000 with 1 Axes>"
      ]
     },
     "metadata": {},
     "output_type": "display_data"
    }
   ],
   "source": [
    "# Run k-means clustering\n",
    "n_clusters = 8\n",
    "\n",
    "cluster_info = kmeans_cluster_embeddings(\n",
    "    model_to_validate, \n",
    "    n_words=100,\n",
    "    n_clusters=n_clusters,\n",
    "    save_path=f'figs/k_means/kmeans_word_clusters_{n_clusters}.png'\n",
    ")"
   ]
  },
  {
   "cell_type": "markdown",
   "metadata": {},
   "source": [
    "### Intrinsic Evaluation 2- Semantic similarity\n",
    "\n",
    "As a more formal way to validate the word embeddings created, I assess semantic similarity. The idea is to compare levels of similarity (using cosine distance) represented by my word embeddings to pairs of words generally considered as similar. Due to the lack of gold-standard dataset for this task in French, I used Claude Sonnet 3.7 and ChatGPT-o1 to translate Finkelstein et al. (2001)'s WordSim353 [1] [2]. Being a French native speaker, I was able to validate the translation and resolve conflicts myself. This dataset contains 353 word pairs, each associated with an average of 13 to 16 human judgements on their similarity. Importantly, both similarity and relatedness, which are two distinct concepts, are annotated without distinction. However, studies have found that human scores for both are very highly correlated with each other [3]. The trivial `tiger--tiger` pair was omitted, along with pairs where the translated words were the same. Finally, I also removed pairs whose association in English had no equivalent in French (e.g. 'soap' and 'opera').\n",
    "\n",
    "----\n",
    "[1]: Finkelstein, L., Gabrilovich, E., Matias, Y., Rivlin, E., Solan, Z., Wolfman, G., & Ruppin, E. (2001). Placing search in context: The concept revisited. Proceedings of the 10th International Conference on World Wide Web, 406–414. https://doi.org/10.1145/371920.372094\n",
    "\n",
    "[2]: Available at https://www.kaggle.com/datasets/julianschelb/wordsim353-crowd/data\n",
    "\n",
    "[3]: (Miller and Charles, 1991; Resnik, 1995) as cited in Agirre, E., Alfonseca, E., Hall, K., Kravalova, J., Paşca, M., & Soroa, A. (2009). A study on similarity and relatedness using distributional and WordNet-based approaches. Proceedings of Human Language Technologies: The 2009 Annual Conference of the North American Chapter of the Association for Computational Linguistics, 19–27."
   ]
  },
  {
   "cell_type": "code",
   "execution_count": null,
   "metadata": {},
   "outputs": [],
   "source": [
    "similarity_test_results_df = validate_models_similarity_task(models)"
   ]
  },
  {
   "cell_type": "markdown",
   "metadata": {},
   "source": [
    "### Intrinsic validation 3 - Analogies"
   ]
  },
  {
   "cell_type": "markdown",
   "metadata": {},
   "source": [
    "For the final part of the validation process, I partly follow Abdine et al. (2022)'s methodology of evaluating word embeddings [1]. Their first step is the **analogy task** [2]. In this task, we predict a word D by analyzing the semantic relationships between three input words A, B, and C. The prediction operates on the assumption that high-quality word embeddings preserve linear relationships between word pairs.\n",
    "\n",
    "The process works as follows:\n",
    "\n",
    "1. Given words A, B, and C, we access their vector representations (xA, xB, xC).\n",
    "2. We compute a new vector using the formula: xB - xA + xC\n",
    "3. We search the embedding dictionary for the word vector most similar to this result, which becomes our predicted word D.\n",
    "\n",
    "For example, if we input \"king,\" \"man,\" and \"woman,\" a good embedding system should predict \"queen\" because the relationship between \"king\" and \"man\" parallels the relationship between \"queen\" and \"woman.\" Performance is measured by calculating the average accuracy across all test cases in the evaluation set. This approach effectively assesses how well word embeddings capture semantic relationships between concepts.\n",
    "\n",
    "To evaluate my word embeddings, I utilised the French analogy dataset developed by Grave et al. (2018). This comprehensive dataset contains 31,688 analogy questions designed to test semantic and syntactic relationships [3]. I benchmarked my embeddings against three established French word vector models:\n",
    "\n",
    "- French FastText (cc.fr.300) - also created by Grave et al. (2018)\n",
    "- French Wacky word vectors\n",
    "- Abdine et al. (2022)'s CBoW and Skip-Gram models trained on Large-Scale French Web Content\n",
    "\n",
    "This comparative evaluation allows me to assess the relative performance of my embeddings against well-established baselines in capturing linguistic relationships within the French language context.\n",
    "\n",
    "---------\n",
    "[1]: Abdine, H., Xypolopoulos, C., Eddine, M. K., & Vazirgiannis, M. (2022). Evaluation Of Word Embeddings From Large-Scale French Web Content (No. arXiv:2105.01990). arXiv. https://doi.org/10.48550/arXiv.2105.01990\n",
    "\n",
    "[2]: Mikolov, T., Chen, K., Corrado, G., & Dean, J. (2013). Efficient Estimation of Word Representations in Vector Space (No. arXiv:1301.3781). arXiv. https://doi.org/10.48550/arXiv.1301.3781\n",
    "\n",
    "[3]: Grave, E., Bojanowski, P., Gupta, P., Joulin, A., & Mikolov, T. (2018). Learning Word Vectors for 157 Languages. In N. Calzolari, K. Choukri, C. Cieri, T. Declerck, S. Goggi, K. Hasida, H. Isahara, B. Maegaard, J. Mariani, H. Mazo, A. Moreno, J. Odijk, S. Piperidis, & T. Tokunaga (Eds.), Proceedings of the Eleventh International Conference on Language Resources and Evaluation (LREC 2018). European Language Resources Association (ELRA). https://aclanthology.org/L18-1550/\n"
   ]
  },
  {
   "cell_type": "code",
   "execution_count": 28,
   "metadata": {},
   "outputs": [
    {
     "name": "stdout",
     "output_type": "stream",
     "text": [
      "Downloading analogy dataset...\n",
      "Parsed 14 categories with a total of 31562 questions\n",
      "\n",
      "Evaluating model: frRap_non_lemma_skipgram_200_100\n",
      "Saved correct analogies to results/correct_analogies/correct_analogies_frRap_non_lemma_skipgram_200_100.md\n",
      "  Accuracy: 0.0983, Skipped: 30657\n",
      "\n",
      "Evaluating model: frRap_non_lemma_cbow_200_100\n",
      "Saved correct analogies to results/correct_analogies/correct_analogies_frRap_non_lemma_cbow_200_100.md\n",
      "  Accuracy: 0.1105, Skipped: 30657\n",
      "\n",
      "Evaluating model: frRap_lemma_skipgram_500_100\n",
      "Saved correct analogies to results/correct_analogies/correct_analogies_frRap_lemma_skipgram_500_100.md\n",
      "  Accuracy: 0.0773, Skipped: 30657\n",
      "\n",
      "Evaluating model: frRap_lemma_cbow_500_10\n",
      "Saved correct analogies to results/correct_analogies/correct_analogies_frRap_lemma_cbow_500_10.md\n",
      "  Accuracy: 0.0700, Skipped: 28348\n",
      "\n",
      "Evaluating model: frRap_non_lemma_skipgram_500_100\n",
      "Saved correct analogies to results/correct_analogies/correct_analogies_frRap_non_lemma_skipgram_500_100.md\n",
      "  Accuracy: 0.0718, Skipped: 30657\n",
      "\n",
      "Evaluating model: frRap_lemma_skipgram_700_50\n",
      "Saved correct analogies to results/correct_analogies/correct_analogies_frRap_lemma_skipgram_700_50.md\n",
      "  Accuracy: 0.0488, Skipped: 30128\n",
      "\n",
      "Evaluating model: frRap_non_lemma_skipgram_100_5\n",
      "Saved correct analogies to results/correct_analogies/correct_analogies_frRap_non_lemma_skipgram_100_5.md\n",
      "  Accuracy: 0.0265, Skipped: 27672\n",
      "\n",
      "Evaluating model: frRap_non_lemma_cbow_200_0\n",
      "Saved correct analogies to results/correct_analogies/correct_analogies_frRap_non_lemma_cbow_200_0.md\n",
      "  Accuracy: 0.0392, Skipped: 25666\n",
      "\n",
      "Evaluating model: frRap_lemma_cbow_500_100\n",
      "Saved correct analogies to results/correct_analogies/correct_analogies_frRap_lemma_cbow_500_100.md\n",
      "  Accuracy: 0.1260, Skipped: 30657\n",
      "\n",
      "Evaluating model: frRap_lemma_cbow_700_100\n",
      "Saved correct analogies to results/correct_analogies/correct_analogies_frRap_lemma_cbow_700_100.md\n",
      "  Accuracy: 0.1105, Skipped: 30657\n"
     ]
    }
   ],
   "source": [
    "# Word analogy task from Grave et al., 2018\n",
    "# Source: https://fasttext.cc/docs/en/crawl-vectors.html\n",
    "\n",
    "# Evaluate the full model and save correct analogies\n",
    "analogies_test_results_df = validate_models_analogy_task(\n",
    "    models, \n",
    "    save_correct=True,\n",
    "    )"
   ]
  },
  {
   "cell_type": "code",
   "execution_count": 19,
   "metadata": {},
   "outputs": [
    {
     "name": "stdout",
     "output_type": "stream",
     "text": [
      "\n",
      "Category Performance for model 'frRap_non_lemma_skipgram_100_5' (best to worst):\n",
      "  family: 0.0721\n",
      "  gram7-past-tense: 0.0489\n",
      "  gram4-past-participle: 0.0426\n",
      "  gram2-opposite: 0.0220\n",
      "  gram5-plural: 0.0103\n",
      "  gram3-present-participle: 0.0042\n",
      "  antonyms-adjectives: 0.0036\n",
      "  gram1-adjective-to-adverb: 0.0000\n",
      "  gram8-plural-verbs: 0.0000\n"
     ]
    }
   ],
   "source": [
    "# Print sorted analogy categories for the first model\n",
    "print_sorted_categories(analogies_test_results_df, model_to_validate.name)"
   ]
  },
  {
   "cell_type": "markdown",
   "metadata": {},
   "source": [
    "**!! Limitation of the study: No extrinsic evaluation !!**\n",
    "\n",
    "Extrinsic evaluation, which consists of testing the word embeddings on external tasks such as NER or parts-of-speech tagging, would allow to evaluate the actual usefulness of the embeddings."
   ]
  },
  {
   "cell_type": "markdown",
   "metadata": {},
   "source": [
    "## Gender Stereotypes Analysis"
   ]
  },
  {
   "cell_type": "markdown",
   "metadata": {},
   "source": [
    "### Word Embedding Association Test \n",
    "A popular method of testing for the presence of gender bias in word embeddings is the Word Embedding Association Test (WEAT), created by Caliskan et al. (2017) [1] and subsequently improved on by Garg et al. (2018) [2] Chaloner & Maldonado (2019) [3] and Betti et al. (2023)[4]. \n",
    "\n",
    "1. **Define word sets**\n",
    "- Two target word sets (X, Y) representing concept categories. I gather them from Caliskan et al. (2017), Garg et al. (2018), Chaloner & Maldonado (2019), and Betti et al. (2023).\n",
    "    - *Career vs. Family*\n",
    "    - *Maths / Science vs. Arts* \n",
    "    - Differences on *personal descriptions in terms of intelligence vs. appearance*\n",
    "    - Physical or emotional *strength vs. weakness*\n",
    "\n",
    "- Two attribute word sets (M, F) representing male and female concepts\n",
    "\n",
    "The null hypothesis (H0) is that there is no difference between $M$ and $F$ in terms of their relative cosine similarity to $X$ and $Y$.\n",
    "\n",
    "2. **Calculate association measure for each target word, and test statistic**\n",
    "\n",
    "I first calculate the **measure of association** between target word $w$, and the attribute words in $M$ and $F$. \n",
    "\n",
    "\\begin{equation}\n",
    "s(w, M, F) = \\frac{1}{|M|} \\sum_{m\\in M} \\cos(\\vec{w}, \\vec{m}) - \\frac{1}{|F|} \\sum_{f\\in F} \\cos(\\vec{w}, \\vec{f})\n",
    "\\end{equation}\n",
    "\n",
    "Then, I compute the following **test statistic**\n",
    "\n",
    "\\begin{equation}\n",
    "s(X, Y, M, F) = \\sum_{x\\in X} s(x, M, F) - \\sum_{y\\in Y} s(y, M, F).\n",
    "\\end{equation}\n",
    "\n",
    "H0 is tested in Caliskan et al. (2017) through a permutation test, where all words in $X$ and $Y$ are partitioned in alternative target lists $\\hat{X}$ and $\\hat{Y}$ exhaustively, and the one-sided p-value $p[s(\\hat{X}, \\hat{Y}, M, F) > s(X, Y, M, F)]$ is computed. This value represents the proportion of partition permutations in which the test statistic $s(\\hat{X}, \\hat{Y}, M, F)$ is greater tham the observed test statistic $s(X, Y, M, F)$, i.e., the probability that H0 is true, and that there is no difference between $X$ and $Y$ in relation to $M$ and $F$.\n",
    "\n",
    "Similarly to Betti et al. (2023), I use randomisation tests with a maximimum of 1,000 iterations instead of the exhaustive permutation tests.\n",
    "\n",
    "3. **Calculate effect size using Cohen's d**\n",
    "\n",
    "\\begin{equation}\n",
    "d = \\frac{\\text{mean}_{x \\in X} s(x, M, F) - \\text{mean}_{y \\in Y} s(y, M, F)}{SD_{\\textbf{pooled}_{w \\in X \\cup Y}} s(w, M, F)}\n",
    "\\end{equation}\n",
    "\n",
    "where $SD_{\\textbf{pooled}}$ is calculated as:\n",
    "\n",
    "\\begin{equation}\n",
    "\\text{SD}_{\\text{pooled}} = \\sqrt{\\frac{(\\text{SD}_X^2 + \\text{SD}_Y^2)}{2}}\n",
    "\\end{equation}\n",
    "\n",
    "where $\\text{SD}_X$ is the standard deviation of the association measures $s(x, M, F)$ for all $x \\in X$, and $\\text{SD}_Y$ is the standard deviation of the association measures $s(y, M, F)$ for all $y \\in Y$.\n",
    "\n",
    "Based on this formulation, a positive effect size would indicate that the words in $X$ are more similar to the words in $M$ than in $F$, and the words in $Y$ are more similar to the words in $F$ than in $M$.\n",
    "\n",
    "-----\n",
    "[1] Caliskan, A., Bryson, J. J., & Narayanan, A. (2017). Semantics derived automatically from language corpora contain human-like biases. Science, 356(6334), 183–186. https://doi.org/10.1126/science.aal4230\n",
    "\n",
    "[2] Garg, N., Schiebinger, L., Jurafsky, D., & Zou, J. (2018). Word embeddings quantify 100 years of gender and ethnic stereotypes. Proceedings of the National Academy of Sciences, 115(16), E3635–E3644. https://doi.org/10.1073/pnas.1720347115\n",
    "\n",
    "[3] Chaloner, K., & Maldonado, A. (2019). Measuring Gender Bias in Word Embeddings across Domains and Discovering New Gender Bias Word Categories. In M. R. Costa-jussà, C. Hardmeier, W. Radford, & K. Webster (Eds.), Proceedings of the First Workshop on Gender Bias in Natural Language Processing (pp. 25–32). Association for Computational Linguistics. https://doi.org/10.18653/v1/W19-3804\n",
    "\n",
    "[4] Betti, L., Abrate, C., & Kaltenbrunner, A. (2023). Large scale analysis of gender bias and sexism in song lyrics. EPJ Data Science, 12(1), Article 1. https://doi.org/10.1140/epjds/s13688-023-00384-8\n"
   ]
  },
  {
   "cell_type": "code",
   "execution_count": 29,
   "metadata": {},
   "outputs": [],
   "source": [
    "# Load model\n",
    "model = Word2Vec.load(\"models/frRap_non_lemma_skipgram_100_5/model\")\n",
    "model_name = \"frRap_non_lemma_skipgram_100_5\"\n",
    "\n",
    "# Initialize the WEAT analyser (from utils.analysis_helpers)\n",
    "WEAT_analyser = GenderBiasWEATAnalyser(model)"
   ]
  },
  {
   "cell_type": "code",
   "execution_count": 30,
   "metadata": {},
   "outputs": [
    {
     "name": "stdout",
     "output_type": "stream",
     "text": [
      "Analysing category: B1_career_family\n",
      "  P-value: 0.4060, Effect size: 0.1437\n",
      "  X words in vocab: 10/10\n",
      "  Y words in vocab: 6/7\n",
      "  Interpretation: Category X words are more associated with male attributes (Effect size 0.14367720599273154, not statistically significant, p=0.4060)\n",
      "Analysing category: B2_mathsci_arts\n",
      "  P-value: 0.2340, Effect size: 0.4043\n",
      "  X words in vocab: 7/7\n",
      "  Y words in vocab: 6/6\n",
      "  Interpretation: Category X words are more associated with male attributes (Effect size 0.40428448790208377, not statistically significant, p=0.2340)\n",
      "Analysing category: B3_intel_appearance\n",
      "  P-value: 0.0130, Effect size: 1.0818\n",
      "  X words in vocab: 9/9\n",
      "  Y words in vocab: 12/12\n",
      "  Interpretation: Category X words are more associated with male attributes (Effect size 1.0818159640388663, statistically significant, p=0.0130)\n",
      "Analysing category: B4_strength_weakness\n",
      "  P-value: 0.3930, Effect size: 0.1526\n",
      "  X words in vocab: 6/9\n",
      "  Y words in vocab: 9/10\n",
      "  Interpretation: Category X words are more associated with male attributes (Effect size 0.15262251917226002, not statistically significant, p=0.3930)\n",
      "Analysing category: B5_status_love\n",
      "  P-value: 0.0550, Effect size: 0.7771\n",
      "  X words in vocab: 11/11\n",
      "  Y words in vocab: 10/10\n",
      "  Interpretation: Category X words are more associated with male attributes (Effect size 0.777138135623679, not statistically significant, p=0.0550)\n"
     ]
    }
   ],
   "source": [
    "# Run the WEAT analysis for all gender bias categories\n",
    "WEAT_results = WEAT_analyser.analyse_all_categories(n_permutations=1000)"
   ]
  }
 ],
 "metadata": {
  "kernelspec": {
   "display_name": "nlp-summative",
   "language": "python",
   "name": "python3"
  },
  "language_info": {
   "codemirror_mode": {
    "name": "ipython",
    "version": 3
   },
   "file_extension": ".py",
   "mimetype": "text/x-python",
   "name": "python",
   "nbconvert_exporter": "python",
   "pygments_lexer": "ipython3",
   "version": "3.10.16"
  }
 },
 "nbformat": 4,
 "nbformat_minor": 2
}
