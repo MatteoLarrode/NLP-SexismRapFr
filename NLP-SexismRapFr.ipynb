{
 "cells": [
  {
   "cell_type": "markdown",
   "metadata": {},
   "source": [
    "# Semantic analysis of sexism in French Rap using word embeddings\n",
    "\n",
    "Natural Language Processing for the Social Sciences\n",
    "\n",
    "Matteo Larrode, MSc Social Data Science"
   ]
  },
  {
   "cell_type": "markdown",
   "metadata": {},
   "source": [
    "## Setup"
   ]
  },
  {
   "cell_type": "code",
   "execution_count": 1,
   "metadata": {},
   "outputs": [],
   "source": [
    "%load_ext autoreload\n",
    "%autoreload 2"
   ]
  },
  {
   "cell_type": "code",
   "execution_count": 2,
   "metadata": {},
   "outputs": [],
   "source": [
    "import pandas as pd\n",
    "import numpy as np\n",
    "import matplotlib.pyplot as plt\n",
    "import seaborn as sns\n",
    "import os\n",
    "import pickle\n",
    "import wandb\n",
    "from gensim.models import Word2Vec\n",
    "from gensim.utils import simple_preprocess\n",
    "import re\n",
    "\n",
    "from utils.cleaning_helpers import *\n",
    "from utils.visualisations_helpers import *\n",
    "from utils.analysis_helpers import *\n",
    "\n",
    "set_visualization_style()\n",
    "\n",
    "viridis = plt.get_cmap('viridis_r', 6) "
   ]
  },
  {
   "cell_type": "code",
   "execution_count": null,
   "metadata": {},
   "outputs": [],
   "source": [
    "# Data is from 2024 ACL-SRW paper \"A Computational Analysis and Exploration of Linguistic Borrowings in French Rap Lyrics\" by Lucas Zurbuchen and Rob Voigt.\n",
    "# Paper: https://aclanthology.org/2024.acl-srw.27.pdf\n",
    "# Source: https://github.com/ljz112/CLResearch/tree/main/dataEntries\n",
    "\n",
    "# Download the data from the GitHub repository & create csv files:\n",
    "# python data_preprocessing.py\n",
    "# Or to skip the download:\n",
    "# python data_preprocessing.py --skip-download"
   ]
  },
  {
   "cell_type": "code",
   "execution_count": 8,
   "metadata": {},
   "outputs": [
    {
     "name": "stdout",
     "output_type": "stream",
     "text": [
      "<class 'pandas.core.frame.DataFrame'>\n",
      "Index: 8208 entries, 0 to 11616\n",
      "Data columns (total 10 columns):\n",
      " #   Column          Non-Null Count  Dtype \n",
      "---  ------          --------------  ----- \n",
      " 0   id              8208 non-null   int64 \n",
      " 1   name            8208 non-null   object\n",
      " 2   artists         8208 non-null   object\n",
      " 3   releaseDate     8208 non-null   object\n",
      " 4   popularity      8208 non-null   int64 \n",
      " 5   lyrics          8208 non-null   object\n",
      " 6   cleaned_lyrics  8208 non-null   object\n",
      " 7   is_french       8208 non-null   bool  \n",
      " 8   year            8208 non-null   int64 \n",
      " 9   decade          8208 non-null   object\n",
      "dtypes: bool(1), int64(3), object(6)\n",
      "memory usage: 649.3+ KB\n",
      "<class 'list'>\n",
      "['moi', 'je', 'sais', 'ce', 'que', 'veux', 'tu', 'sais', 'est', 'quoi', 'mon', 'but', 'etre', 'un', 'putain', 'de', 'bourgeois', 'gagner', 'du', 'ble', 'rien', 'glander', 'je', 'ne', 'veux', 'surtout', 'pas', 'retourner', 'ou', 'etais', 'je', 'ne', 'veux', 'plus', 'cirer', 'les', 'pompes', 'un', 'encule', 'pour', 'avoir', 'de', 'quoi', 'vivre', 'ai', 'sourire', 'tant', 'que', 'manque', 'pas', 'billets', 'banque', 'de', 'plaisirs', 'charnels', 'blinde', 'comme', 'un', 'tank', 'pris', 'sous', 'le', 'charme', 'gonfle', 'comme', 'une', 'grosse', 'paire', 'de', 'mamelles', 'moi', 'fric', 'ca', 'fait', 'bander', 'comme', 'le', 'boule', 'julia', 'channel', 'demandez', 'mes', 'partenaires', 'qu', 'est', 'ce', 'qui', 'fait', 'tourner', 'la', 'planete', 'le', 'sexe', 'les', 'biftons', 'le', 'pouvoir', 'et', 'les', 'business']\n"
     ]
    }
   ],
   "source": [
    "# Load the data\n",
    "songs_df = pd.read_pickle('data/processed_french_rap_songs.pkl')\n",
    "\n",
    "songs_df.info()\n",
    "print(type(songs_df['cleaned_lyrics'].iloc[0]))\n",
    "print(songs_df['cleaned_lyrics'].iloc[0][:100])"
   ]
  },
  {
   "cell_type": "code",
   "execution_count": 13,
   "metadata": {},
   "outputs": [
    {
     "data": {
      "image/png": "[encoded data removed]",
      "text/plain": [
       "<Figure size 1000x600 with 1 Axes>"
      ]
     },
     "metadata": {},
     "output_type": "display_data"
    }
   ],
   "source": [
    "# Check number of songs per decade\n",
    "plt.figure(figsize=(10, 6))\n",
    "decade_counts = songs_df['decade'].value_counts().sort_index()\n",
    "sns.barplot(x=decade_counts.index, y=decade_counts.values)\n",
    "# Add number of songs on top of each bar\n",
    "for i, count in enumerate(decade_counts.values):\n",
    "    plt.text(i, count + 5, str(count), ha='center', va='bottom')\n",
    "plt.title('Distribution of Songs by Decade')\n",
    "plt.xlabel('Decade')\n",
    "plt.ylabel('Number of Songs')\n",
    "plt.xticks(rotation=45)\n",
    "plt.tight_layout()\n",
    "plt.show()"
   ]
  },
  {
   "cell_type": "markdown",
   "metadata": {},
   "source": [
    "## Word Embedding Training"
   ]
  },
  {
   "cell_type": "markdown",
   "metadata": {},
   "source": [
    "Code inspired from Schmahl, K. G., Viering, T., Makrodimitris, S., Jahfari, A. N., Tax, D., & Loog, M. (2020). Is Wikipedia succeeding in reducing gender bias? Assessing changes in gender bias in Wikipedia using word embeddings. NLPCSS. https://doi.org/10.18653/V1/2020.NLPCSS-1.11\n",
    "\n",
    "https://gitlab.com/kschmahl/wikipedia-gender-bias-over-time/"
   ]
  },
  {
   "cell_type": "code",
   "execution_count": 9,
   "metadata": {},
   "outputs": [
    {
     "data": {
      "text/html": [],
      "text/plain": [
       "<IPython.core.display.HTML object>"
      ]
     },
     "metadata": {},
     "output_type": "display_data"
    },
    {
     "data": {
      "text/html": [
       " View run <strong style=\"color:#cdcd00\">simple-training</strong> at: <a href='https://wandb.ai/matteo-larrode-university-of-oxford/french-rap-word-embeddings/runs/v2ktv27b' target=\"_blank\">https://wandb.ai/matteo-larrode-university-of-oxford/french-rap-word-embeddings/runs/v2ktv27b</a><br> View project at: <a href='https://wandb.ai/matteo-larrode-university-of-oxford/french-rap-word-embeddings' target=\"_blank\">https://wandb.ai/matteo-larrode-university-of-oxford/french-rap-word-embeddings</a><br>Synced 5 W&B file(s), 0 media file(s), 0 artifact file(s) and 0 other file(s)"
      ],
      "text/plain": [
       "<IPython.core.display.HTML object>"
      ]
     },
     "metadata": {},
     "output_type": "display_data"
    },
    {
     "data": {
      "text/html": [
       "Find logs at: <code>./wandb/run-20250403_195205-v2ktv27b/logs</code>"
      ],
      "text/plain": [
       "<IPython.core.display.HTML object>"
      ]
     },
     "metadata": {},
     "output_type": "display_data"
    },
    {
     "data": {
      "text/html": [
       "Tracking run with wandb version 0.19.9"
      ],
      "text/plain": [
       "<IPython.core.display.HTML object>"
      ]
     },
     "metadata": {},
     "output_type": "display_data"
    },
    {
     "data": {
      "text/html": [
       "Run data is saved locally in <code>/Users/matteolarrode/Documents/Oxford/NLP/Assignment/NLP-SexismRapFr/wandb/run-20250403_195214-q8uq469h</code>"
      ],
      "text/plain": [
       "<IPython.core.display.HTML object>"
      ]
     },
     "metadata": {},
     "output_type": "display_data"
    },
    {
     "data": {
      "text/html": [
       "Syncing run <strong><a href='https://wandb.ai/matteo-larrode-university-of-oxford/french-rap-word-embeddings/runs/q8uq469h' target=\"_blank\">simple-training</a></strong> to <a href='https://wandb.ai/matteo-larrode-university-of-oxford/french-rap-word-embeddings' target=\"_blank\">Weights & Biases</a> (<a href='https://wandb.me/developer-guide' target=\"_blank\">docs</a>)<br>"
      ],
      "text/plain": [
       "<IPython.core.display.HTML object>"
      ]
     },
     "metadata": {},
     "output_type": "display_data"
    },
    {
     "data": {
      "text/html": [
       " View project at <a href='https://wandb.ai/matteo-larrode-university-of-oxford/french-rap-word-embeddings' target=\"_blank\">https://wandb.ai/matteo-larrode-university-of-oxford/french-rap-word-embeddings</a>"
      ],
      "text/plain": [
       "<IPython.core.display.HTML object>"
      ]
     },
     "metadata": {},
     "output_type": "display_data"
    },
    {
     "data": {
      "text/html": [
       " View run at <a href='https://wandb.ai/matteo-larrode-university-of-oxford/french-rap-word-embeddings/runs/q8uq469h' target=\"_blank\">https://wandb.ai/matteo-larrode-university-of-oxford/french-rap-word-embeddings/runs/q8uq469h</a>"
      ],
      "text/plain": [
       "<IPython.core.display.HTML object>"
      ]
     },
     "metadata": {},
     "output_type": "display_data"
    },
    {
     "name": "stdout",
     "output_type": "stream",
     "text": [
      "Decades in dataset: ['1990s-2000s' '2010s' '2020s']\n",
      "\n",
      "Training model for 1990s-2000s...\n",
      "Number of songs: 951\n",
      "Corpus size: 951 songs\n",
      "Model saved to models/1990s-2000s/rap_1990s-2000s_model\n",
      "\n",
      "Training model for 2010s...\n",
      "Number of songs: 2312\n",
      "Corpus size: 2312 songs\n",
      "Model saved to models/2010s/rap_2010s_model\n",
      "\n",
      "Training model for 2020s...\n",
      "Number of songs: 4945\n",
      "Corpus size: 4945 songs\n",
      "Model saved to models/2020s/rap_2020s_model\n",
      "\n",
      "Training model on all decades combined...\n",
      "Combined corpus size: 8208 songs\n",
      "Combined model saved to models/all/rap_all_decades_model\n"
     ]
    },
    {
     "data": {
      "text/html": [],
      "text/plain": [
       "<IPython.core.display.HTML object>"
      ]
     },
     "metadata": {},
     "output_type": "display_data"
    },
    {
     "data": {
      "text/html": [
       "<br>    <style><br>        .wandb-row {<br>            display: flex;<br>            flex-direction: row;<br>            flex-wrap: wrap;<br>            justify-content: flex-start;<br>            width: 100%;<br>        }<br>        .wandb-col {<br>            display: flex;<br>            flex-direction: column;<br>            flex-basis: 100%;<br>            flex: 1;<br>            padding: 10px;<br>        }<br>    </style><br><div class=\"wandb-row\"><div class=\"wandb-col\"><h3>Run history:</h3><br/><table class=\"wandb\"><tr><td>num_songs</td><td>▁▂▅█</td></tr><tr><td>vocab_size</td><td>▁▂▅█</td></tr></table><br/></div><div class=\"wandb-col\"><h3>Run summary:</h3><br/><table class=\"wandb\"><tr><td>decade</td><td>all</td></tr><tr><td>num_songs</td><td>8208</td></tr><tr><td>vocab_size</td><td>24857</td></tr></table><br/></div></div>"
      ],
      "text/plain": [
       "<IPython.core.display.HTML object>"
      ]
     },
     "metadata": {},
     "output_type": "display_data"
    },
    {
     "data": {
      "text/html": [
       " View run <strong style=\"color:#cdcd00\">simple-training</strong> at: <a href='https://wandb.ai/matteo-larrode-university-of-oxford/french-rap-word-embeddings/runs/q8uq469h' target=\"_blank\">https://wandb.ai/matteo-larrode-university-of-oxford/french-rap-word-embeddings/runs/q8uq469h</a><br> View project at: <a href='https://wandb.ai/matteo-larrode-university-of-oxford/french-rap-word-embeddings' target=\"_blank\">https://wandb.ai/matteo-larrode-university-of-oxford/french-rap-word-embeddings</a><br>Synced 5 W&B file(s), 0 media file(s), 0 artifact file(s) and 0 other file(s)"
      ],
      "text/plain": [
       "<IPython.core.display.HTML object>"
      ]
     },
     "metadata": {},
     "output_type": "display_data"
    },
    {
     "data": {
      "text/html": [
       "Find logs at: <code>./wandb/run-20250403_195214-q8uq469h/logs</code>"
      ],
      "text/plain": [
       "<IPython.core.display.HTML object>"
      ]
     },
     "metadata": {},
     "output_type": "display_data"
    },
    {
     "name": "stdout",
     "output_type": "stream",
     "text": [
      "Training complete!\n"
     ]
    }
   ],
   "source": [
    "# Initialize W&B\n",
    "wandb.init(project=\"french-rap-word-embeddings\", name=\"simple-training\")\n",
    "\n",
    "# Group songs by decade\n",
    "decades = songs_df['decade'].unique()\n",
    "print(f\"Decades in dataset: {decades}\")\n",
    "\n",
    "# Define parameters\n",
    "vector_size = 100\n",
    "window = 10\n",
    "workers = 4\n",
    "min_count = 5\n",
    "iterations = 5\n",
    "sg = 1  # Skip-gram model\n",
    "seed = 42\n",
    "\n",
    "# Train a model for each decade\n",
    "for decade in decades:\n",
    "    print(f\"\\nTraining model for {decade}...\")\n",
    "    \n",
    "    # Get songs for this decade\n",
    "    decade_songs = songs_df[songs_df['decade'] == decade]\n",
    "    print(f\"Number of songs: {len(decade_songs)}\")\n",
    "    \n",
    "    # Use pre-tokenized lyrics if available\n",
    "    if 'cleaned_lyrics' in decade_songs.columns:\n",
    "        # Filter out any None or NaN values\n",
    "        corpus = [tokens for tokens in decade_songs['cleaned_lyrics'].tolist() if tokens]\n",
    "    else:\n",
    "        print(\"Warning: No cleaned_lyrics found.\")\n",
    "        # Terminate the loop\n",
    "        continue\n",
    "    \n",
    "    print(f\"Corpus size: {len(corpus)} songs\")\n",
    "    \n",
    "    # Create output directory\n",
    "    output_dir = f'models/{decade}'\n",
    "    os.makedirs(output_dir, exist_ok=True)\n",
    "    \n",
    "    # Train the model\n",
    "    model = Word2Vec(\n",
    "        sentences=corpus,\n",
    "        vector_size=vector_size,\n",
    "        window=window,\n",
    "        min_count=min_count,\n",
    "        workers=workers,\n",
    "        epochs=iterations,\n",
    "        sg=sg,\n",
    "        seed=seed\n",
    "    )\n",
    "    \n",
    "    # Log basic info to W&B\n",
    "    wandb.log({\n",
    "        \"decade\": decade,\n",
    "        \"num_songs\": len(corpus),\n",
    "        \"vocab_size\": len(model.wv.index_to_key)\n",
    "    })\n",
    "    \n",
    "    # Save the model\n",
    "    model_path = f'{output_dir}/rap_{decade}_model'\n",
    "    model.save(model_path)\n",
    "    print(f\"Model saved to {model_path}\")\n",
    "    \n",
    "    # Save vocabulary dictionary\n",
    "    vocab_dict = {word: index for index, word in enumerate(model.wv.index_to_key)}\n",
    "    with open(f'{model_path}-vocab.pkl', 'wb') as f:\n",
    "        pickle.dump(vocab_dict, f)\n",
    "    \n",
    "    # Save vectors in numpy format\n",
    "    np.save(f'{model_path}-vectors.npy', model.wv.vectors)\n",
    "\n",
    "# Train model on the entire corpus\n",
    "print(\"\\nTraining model on all decades combined...\")\n",
    "\n",
    "# Combine all corpora\n",
    "all_corpus = []\n",
    "for decade in decades:\n",
    "    decade_songs = songs_df[songs_df['decade'] == decade]\n",
    "    if 'cleaned_lyrics' in decade_songs.columns:\n",
    "        decade_corpus = [tokens for tokens in decade_songs['cleaned_lyrics'].tolist() if tokens]\n",
    "        all_corpus.extend(decade_corpus)\n",
    "\n",
    "print(f\"Combined corpus size: {len(all_corpus)} songs\")\n",
    "\n",
    "# Create output directory for combined model\n",
    "output_dir = 'models/all'\n",
    "os.makedirs(output_dir, exist_ok=True)\n",
    "\n",
    "# Train the combined model\n",
    "all_model = Word2Vec(\n",
    "    sentences=all_corpus,\n",
    "    vector_size=vector_size,\n",
    "    window=window,\n",
    "    min_count=min_count,\n",
    "    workers=4,\n",
    "    epochs=iterations,\n",
    "    sg=sg,\n",
    "    seed=seed\n",
    ")\n",
    "\n",
    "# Log basic info to W&B\n",
    "wandb.log({\n",
    "    \"decade\": \"all\",\n",
    "    \"num_songs\": len(all_corpus),\n",
    "    \"vocab_size\": len(all_model.wv.index_to_key)\n",
    "})\n",
    "\n",
    "# Save the combined model\n",
    "model_path = f'{output_dir}/rap_all_decades_model'\n",
    "all_model.save(model_path)\n",
    "print(f\"Combined model saved to {model_path}\")\n",
    "\n",
    "# Save vocabulary dictionary\n",
    "vocab_dict = {word: index for index, word in enumerate(all_model.wv.index_to_key)}\n",
    "with open(f'{model_path}-vocab.pkl', 'wb') as f:\n",
    "    pickle.dump(vocab_dict, f)\n",
    "\n",
    "# Save vectors in numpy format\n",
    "np.save(f'{model_path}-vectors.npy', all_model.wv.vectors)\n",
    "\n",
    "# Finish the W&B run\n",
    "wandb.finish()\n",
    "\n",
    "print(\"Training complete!\")"
   ]
  },
  {
   "cell_type": "markdown",
   "metadata": {},
   "source": [
    "## Word Embedding Validation"
   ]
  },
  {
   "cell_type": "code",
   "execution_count": 12,
   "metadata": {},
   "outputs": [
    {
     "name": "stdout",
     "output_type": "stream",
     "text": [
      "Loaded model: all\n",
      "Loaded model: 2020s\n",
      "Loaded model: 2010s\n",
      "Loaded model: 1990s-2000s\n"
     ]
    }
   ],
   "source": [
    "models = load_models()"
   ]
  },
  {
   "cell_type": "code",
   "execution_count": 19,
   "metadata": {},
   "outputs": [
    {
     "name": "stdout",
     "output_type": "stream",
     "text": [
      "\n",
      "--- Most similar words to 'voiture' ---\n",
      "\n",
      "Model: all\n",
      "  allemande: 0.6967\n",
      "  volee: 0.6902\n",
      "  neuve: 0.6609\n",
      "  sequentielle: 0.6601\n",
      "  garee: 0.6273\n",
      "\n",
      "Model: 2020s\n",
      "  neuve: 0.7098\n",
      "  allemande: 0.6800\n",
      "  schumacher: 0.6231\n",
      "  garee: 0.6107\n",
      "  ouvreuse: 0.6104\n",
      "\n",
      "Model: 2010s\n",
      "  relais: 0.7144\n",
      "  kilometree: 0.7142\n",
      "  boboch: 0.6167\n",
      "  banalisee: 0.6079\n",
      "  allemande: 0.6042\n",
      "\n",
      "Model: 1990s-2000s\n",
      "  georges: 0.7732\n",
      "  bouteille: 0.7697\n",
      "  belier: 0.7667\n",
      "  coffre: 0.7640\n",
      "  robe: 0.7627\n"
     ]
    }
   ],
   "source": [
    "# Check most similar words to 'voiture' in each model\n",
    "print(\"\\n--- Most similar words to 'voiture' ---\")\n",
    "for model_name, model in models.items():\n",
    "    print(f\"\\nModel: {model_name}\")\n",
    "    try:\n",
    "        similar_words = most_similar_words(model, 'voiture', topn=5)\n",
    "        for word, similarity in similar_words:\n",
    "            print(f\"  {word}: {similarity:.4f}\")\n",
    "    except KeyError:\n",
    "        print(f\"  'voiture' not in vocabulary\")"
   ]
  },
  {
   "cell_type": "code",
   "execution_count": 21,
   "metadata": {},
   "outputs": [
    {
     "name": "stdout",
     "output_type": "stream",
     "text": [
      "\n",
      "--- Word pair similarities across models ---\n",
      "\n",
      "Model: all\n",
      "  mec-beau: 0.4108\n",
      "  meuf-belle: 0.4517\n",
      "  mec-fort: 0.4395\n",
      "  meuf-forte: 0.3217\n",
      "  mec-travail: 0.3740\n",
      "  meuf-travail: 0.3069\n",
      "  mec-maison: 0.2220\n",
      "  meuf-maison: 0.3195\n",
      "\n",
      "Model: 2020s\n",
      "  mec-beau: 0.3360\n",
      "  meuf-belle: 0.4009\n",
      "  mec-fort: 0.3602\n",
      "  meuf-forte: 0.3964\n",
      "  mec-travail: 0.2293\n",
      "  meuf-travail: 0.1922\n",
      "  mec-maison: 0.1853\n",
      "  meuf-maison: 0.3127\n",
      "\n",
      "Model: 2010s\n",
      "  mec-beau: 0.3109\n",
      "  meuf-belle: 0.3677\n",
      "  mec-fort: 0.2276\n",
      "  meuf-forte: 0.4131\n",
      "  mec-travail: 0.2821\n",
      "  meuf-travail: 0.3431\n",
      "  mec-maison: 0.0828\n",
      "  meuf-maison: 0.3174\n",
      "\n",
      "Model: 1990s-2000s\n",
      "  mec-beau: 0.5037\n",
      "  meuf-belle: 0.6335\n",
      "  mec-fort: 0.3053\n",
      "  meuf-forte: 0.4606\n",
      "  mec-travail: 0.3935\n",
      "  meuf-travail: 0.2747\n",
      "  mec-maison: 0.4153\n",
      "  meuf-maison: 0.5631\n"
     ]
    }
   ],
   "source": [
    "# Compare specific word pairs across models\n",
    "print(\"\\n--- Word pair similarities across models ---\")\n",
    "word_pairs = [\n",
    "    ('mec', 'beau'), \n",
    "    ('meuf', 'belle'),\n",
    "    ('mec', 'fort'), \n",
    "    ('meuf', 'forte'),\n",
    "    ('mec', 'travail'), \n",
    "    ('meuf', 'travail'), \n",
    "    ('mec', 'maison'),\n",
    "    ('meuf', 'maison')\n",
    "]\n",
    "\n",
    "pair_results = compare_word_pairs(models, word_pairs)\n",
    "for model_name, pairs in pair_results.items():\n",
    "    print(f\"\\nModel: {model_name}\")\n",
    "    for pair, similarity in pairs.items():\n",
    "        print(f\"  {pair}: {similarity:.4f}\")"
   ]
  },
  {
   "cell_type": "markdown",
   "metadata": {},
   "source": [
    "## Gender Stereotypes Analysis"
   ]
  }
 ],
 "metadata": {
  "kernelspec": {
   "display_name": "nlp-summative",
   "language": "python",
   "name": "python3"
  },
  "language_info": {
   "codemirror_mode": {
    "name": "ipython",
    "version": 3
   },
   "file_extension": ".py",
   "mimetype": "text/x-python",
   "name": "python",
   "nbconvert_exporter": "python",
   "pygments_lexer": "ipython3",
   "version": "3.10.16"
  }
 },
 "nbformat": 4,
 "nbformat_minor": 2
}
