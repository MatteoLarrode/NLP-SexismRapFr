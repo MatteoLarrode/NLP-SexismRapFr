{
 "cells": [
  {
   "cell_type": "markdown",
   "id": "e6171352",
   "metadata": {},
   "source": [
    "# Data collection and preprocessing"
   ]
  },
  {
   "cell_type": "markdown",
   "id": "91f2e1cd",
   "metadata": {},
   "source": [
    "## Setup"
   ]
  },
  {
   "cell_type": "code",
   "execution_count": 3,
   "id": "4a4d7c72",
   "metadata": {},
   "outputs": [],
   "source": [
    "%load_ext autoreload\n",
    "%autoreload 2"
   ]
  },
  {
   "cell_type": "code",
   "execution_count": 4,
   "id": "41ab1cbe",
   "metadata": {},
   "outputs": [],
   "source": [
    "import pickle\n",
    "import sys\n",
    "from pathlib import Path\n",
    "\n",
    "# Add the project root to the Python path to import the modules\n",
    "project_root = Path().absolute().parent\n",
    "sys.path.append(str(project_root))\n",
    "\n",
    "from utils.preprocessing_helpers import download_lyrics, preprocess_corpus\n",
    "from utils.model_download_helpers import download_word2vec_model"
   ]
  },
  {
   "cell_type": "markdown",
   "id": "35a47359",
   "metadata": {},
   "source": [
    "## Downloading and preprocessing the rap lyrics"
   ]
  },
  {
   "cell_type": "code",
   "execution_count": null,
   "id": "39c25cf0",
   "metadata": {},
   "outputs": [],
   "source": [
    "# Data is from 2024 ACL-SRW paper \"A Computational Analysis and Exploration of Linguistic Borrowings in French Rap Lyrics\" by Lucas Zurbuchen and Rob Voigt.\n",
    "# Paper: https://aclanthology.org/2024.acl-srw.27.pdf\n",
    "# Source: https://github.com/ljz112/CLResearch/tree/main/dataEntries \n",
    "# Download the data\n",
    "lyrics_array = download_lyrics()\n",
    "\n",
    "# Preprocess the data \n",
    "# Non-lemmatized version\n",
    "preprocess_corpus(texts=lyrics_array,\n",
    "                  lemmatize=False,\n",
    "                  save_path=\"data/processed_lyrics.pkl\")\n",
    "\n",
    "# # Lemmatized version\n",
    "# preprocess_corpus(texts=lyrics_array,\n",
    "#                   lemmatize=True,\n",
    "#                   save_path=\"data/processed_lyrics_lemmatized.pkl\")"
   ]
  },
  {
   "cell_type": "code",
   "execution_count": 6,
   "id": "1345b942",
   "metadata": {},
   "outputs": [],
   "source": [
    "# Load the data\n",
    "# Load the lyrics data\n",
    "with open(\"../data/french_rap_lyrics_raw.pkl\", \"rb\") as f:\n",
    "    lyrics_df = pickle.load(f)\n",
    "\n",
    "# Load the preprocessed (non lemmatized) data\n",
    "with open(\"../data/processed_lyrics.pkl\", \"rb\") as f:\n",
    "    corpus = pickle.load(f)\n",
    "\n",
    "# # Load the lemmatized data\n",
    "# with open(\"data/processed_lyrics_lemmatized.pkl\", \"rb\") as f:\n",
    "#     lemmatized_corpus = pickle.load(f)"
   ]
  },
  {
   "cell_type": "code",
   "execution_count": 7,
   "id": "aeeb20f7",
   "metadata": {},
   "outputs": [
    {
     "name": "stdout",
     "output_type": "stream",
     "text": [
      "Number of songs: 8208\n",
      "['moi', 'je', 'sais', 'ce', 'que', 'veux', 'tu', 'sais', 'est', 'quoi', 'mon', 'but', 'être', 'un', 'putain', 'de', 'bourgeois', 'gagner', 'du', 'blé', 'rien', 'glander', 'je', 'ne', 'veux', 'surtout', 'pas', 'retourner', 'où', 'étais', 'je', 'ne', 'veux', 'plus', 'cirer', 'les', 'pompes', 'un', 'enculé', 'pour', 'avoir', 'de', 'quoi', 'vivre', 'ai', 'sourire', 'tant', 'que', 'manque', 'pas', 'billets', 'banque', 'de', 'plaisirs', 'charnels', 'blindé', 'comme', 'un', 'tank', 'pris', 'sous', 'le', 'charme', 'gonflé', 'comme', 'une', 'grosse', 'paire', 'de', 'mamelles', 'moi', 'fric', 'ça', 'fait', 'bander', 'comme', 'le', 'boule', 'julia', 'channel', 'demandez', 'mes', 'partenaires', 'qu', 'est', 'ce', 'qui', 'fait', 'tourner', 'la', 'planète', 'le', 'sexe', 'les', 'biftons', 'le', 'pouvoir', 'et', 'les', 'business', 'pas', 'nets', 'vise', 'aux', 'manettes', 'rien', 'que', 'des', 'proxénètes', 'avise', 'les', 'maquisards', 'au', 'qg', 'eux', 'ils', 'connaissent', 'la', 'devise', 'est', 'net', 'brise', 'les', 'tabous', 'et', 'qu', 'on', 'le', 'dise', 'au', 'bout', 'du', 'rouleau', 'les', 'chiens', 'sont', 'bout', 'ils', 'gisent', 'la', 'boue', 'jusqu', 'au', 'cou', 'ici', 'beaucoup', 'misent', 'sur', 'les', 'gros', 'coups', 'méprisent', 'le', 'métro', 'boulot', 'sous', 'emprise', 'ils', 'jouent', 'du', 'teau', 'cou', 'tisent', 'attisent', 'les', 'flammes', 'convoitise', 'et', 'belles', 'femmes', 'sous', 'le', 'soleil', 'de', 'satan', 'les', 'anges', 'sont', 'infâmes', 'on', 'attend', 'au', 'pire', 'en', 'tâtant', 'plus', 'de', 'billets', 'la', 'devise', 'estropier', 'la', 'paix', 'peut', 'aller', 'rhabiller', 'la', 'crise', 'consumé', 'le', 'ghetto', 'et', 'ses', 'rejetons', 'le', 'sort', 'est', 'toujours', 'plus', 'vicieux', 'avec', 'ceux', 'qu', 'on', 'rejetés', 'les', 'jetons', 'ça', 'rentre', 'ça', 'sort', 'la', 'vie', 'est', 'pas', 'un', 'feuilleton', 'un', 'long', 'fleuve', 'tranquille', 'ou', 'un', 'putain', 'bouquin', 'feuilleter', 'cueille', 'ton', 'blé', 'mec', 'emblée', 'tous', 'les', 'scarlas', 'ressemblent', 'est', 'niqué', 'il', 'me', 'semble', 'et', 'dans', 'ce', 'maquis', 'on', 'crèvera', 'ensemble', 'la', 'gloire', 'on', 'en', 'veut', 'tous', 'ou', 'plus', 'ou', 'moins', 'une', 'parcelle', 'et', 'quand', 'regarde', 'mon', 'miroir', 'le', 'démon', 'me', 'harcèle', 'qu', 'est', 'ce', 'qui', 'fait', 'courir', 'les', 'scar', 'las', 'qu', 'est', 'ce', 'qui', 'fait', 'courir', 'les', 'scar', 'las', 'sexe', 'pouvoir', 'et', 'biftons', 'si', 'respect', 'passe', 'par', 'là', 'voilà', 'qui', 'fait', 'courir', 'les', 'scar', 'las', 'sexe', 'et', 'biftons', 'qu', 'est', 'ce', 'qui', 'fait', 'courir', 'les', 'scar', 'las', 'je', 'veux', 'le', 'monde', 'comme', 'tony', 'cocker', 'des', 'koukounes', 'comme', 'rocco', 'sans', 'ironie', 'croquer', 'la', 'vie', 'une', 'paire', 'de', 'noix', 'de', 'coco', 'en', 'ro', 'les', 'bourses', 'pleines', 'joko', 'roc', 'la', 'place', 'du', 'cœur', 'stoco', 'en', 'affaires', 'croco', 'quand', 'il', 'faut', 'plaire', 'hoche', 'la', 'tête', 'domine', 'fauche', 'mes', 'ennemis', 'accroche', 'mes', 'trophées', 'mes', 'poches', 'enflent', 'quand', 'passe', 'rue', 'saint', 'denis', 'le', 'sexe', 'le', 'pouvoir', 'et', 'les', 'biftons', 'voilà', 'pas', 'le', 'choix', 'khouya', 'le', 'respect', 'passe', 'par', 'là', 'roulez', 'avec', 'moi', 'et', 'vous', 'ne', 'regretterez', 'rien', 'rien', 'que', 'du', 'popotin', 'du', 'bon', 'vin', 'gars', 'plus', 'jamais', 'en', 'chien', 'un', 'gros', 'fer', 'jantes', 'chromées', 'chaque', 'soir', 'je', 'promets', 'un', 'bon', 'délire', 'trôner', 'dans', 'le', 'tout', 'paname', 'plein', 'goumés', 'file', 'ton', 'chichon', 'vide', 'ton', 'sac', 'fiston', 'dans', 'mon', 'pe', 'grou', 'est', 'porte', 'ouverte', 'pas', 'besoin', 'de', 'piston', 'hisse', 'ton', 'drapeau', 'noir', 'plisse', 'ton', 'front', 'garçon', 'laisse', 'ton', 'petit', 'train', 'train', 'de', 'vie', 'et', 'piston', 'le', 'succès', 'passe', 'par', 'là', 'je', 'ai', 'vu', 'mais', 'bordel', 'il', 'trace', 'je', 'ferais', 'importe', 'quoi', 'pour', 'avoir', 'ça', 'passe', 'ou', 'ça', 'casse', 'pas', 'de', 'souci', 'part', 'peut', 'être', 'la', 'couleur', 'ma', 'cravate', 'je', 'suis', 'aussi', 'beau', 'qu', 'un', 'billet', 'cinquante', 'keus', 'mate', 'le', 'traîne', 'savate', 'est', 'devenu', 'quelqu', 'un', 'mes', 'pieds', 'au', 'sol', 'ma', 'tête', 'est', 'loin', 'dans', 'ma', 'rue', 'est', 'plus', 'comme', 'avant', 'tout', 'le', 'monde', 'est', 'mon', 'copain', 'le', 'monde', 'est', 'moi', 'et', 'ai', 'les', 'pompes', 'cirées', 'je', 'inquiète', 'pas', 'pour', 'les', 'fins', 'de', 'mois', 'ai', 'déjà', 'mon', 'chèque', 'viré', 'dévoile', 'les', 'rêves', 'des', 'cages', 'escaliers', 'qu', 'est', 'ce', 'qui', 'fait', 'tourner', 'la', 'sphère', 'mon', 'gars', 'je', 'sais', 'maintenant', 'tu', 'sais', 'qu', 'est', 'ce', 'qui', 'fait', 'courir', 'les', 'scar', 'las', 'qu', 'est', 'ce', 'qui', 'fait', 'courir', 'les', 'scar', 'las', 'sexe', 'pouvoir', 'et', 'biftons', 'si', 'respect', 'passe', 'par', 'là', 'voilà', 'qui', 'fait', 'courir', 'les', 'scar', 'las', 'sexe', 'et', 'biftons', 'qu', 'est', 'ce', 'qui', 'fait', 'courir', 'les', 'scar', 'las', 'me', 'fixe', 'sur', 'le', 'mix', 'et', 'exprime', 'sans', 'complexe', 'ou', 'quand', 'le', 'sexe', 'prime', 'ma', 'rime', 'devient', 'sexplicite', 'et', 'te', 'dis', 'qu', 'ça', 'épicé', 'comme', 'au', 'tex', 'mex', 'pour', 'diksa', 'un', 'texte', 'plus', 'profond', 'qu', 'la', 'gorge', 'draghixa', 'latex', 'en', 'poche', 'durex', 'pour', 'sponsor', 'qu', 'est', 'ce', 'qui', 'fait', 'tourner', 'la', 'sphère', 'part', 'le', 'sexe', 'et', 'or', 'on', 'sort', 'pas', 'du', 'contexte', 'et', 'est', 'comme', 'dans', 'premier', 'couplet', 'es', 'un', 'mec', 'comblé', 'quand', 'fesses', 'et', 'blé', 'sont', 'accouplés', 'on', 'extasie', 'on', 'expose', 'sexe', 'comme', 'ecstasy', 'explose', 'ici', 'au', 'sussex', 'et', 'jusqu', 'en', 'asie', 'ose', 'me', 'dire', 'que', 'mon', 'rap', 'te', 'vexe', 'miss', 'on', 'excuse', 'pas', 'on', 'expose', 'les', 'faits', 'la', 'prose', 'fuse', 'sexe', 'jusqu', 'excès', 'ce', 'lyrics', 'est', 'clair', 'argent', 'pas', 'odeur', 'mon', 'frère', 'mais', 'la', 'femme', 'du', 'flair', 'la', 'jalousie', 'ronge', 'envieux', 'comme', 'la', 'rouille', 'ronge', 'le', 'fer', 'on', 'ira', 'tous', 'au', 'paradis', 'car', 'est', 'ici', 'enfer', 'aucun', 'tact', 'rien', 'que', 'des', 'pactes', 'du', 'buis', 'traque', 'pour', 'la', 'monnaie', 'sacs', 'bourrés', 'chaque', 'soir', 'braque', 'des', 'tas', 'de', 'poupées', 'coupé', 'cab', 'respect', 'passe', 'le', 'pouvoir', 'tout', 'est', 'donné', 'moi', 'la', 'place', 'qui', 'revient', 'sous', 'le', 'chaud', 'soleil', 'du', 'tanché', 'hacher', 'fin', 'cacher', 'dans', 'un', 'trou', 'bâcher', 'celui', 'qui', 'me', 'fâche', 'et', 'arracher', 'de', 'la', 'zone', 'tous', 'ceux', 'qui', 'avec', 'moi', 'veulent', 'marcher', 'le', 'sexe', 'le', 'pouvoir', 'et', 'les', 'biftons', 'voilà', 'pas', 'choix', 'mon', 'gars', 'le', 'respect', 'passe', 'par', 'là', 'qu', 'est', 'ce', 'qui', 'fait', 'courir', 'les', 'scar', 'las', 'qu', 'est', 'ce', 'qui', 'fait', 'courir', 'les', 'scar', 'las', 'sexe', 'pouvoir', 'et', 'biftons', 'si', 'respect', 'passe', 'par', 'là', 'voilà', 'qui', 'fait', 'courir', 'les', 'scar', 'las', 'sexe', 'et', 'biftons', 'qu', 'est', 'ce', 'qui', 'fait', 'courir', 'les', 'scar', 'las']\n"
     ]
    }
   ],
   "source": [
    "print(f\"Number of songs: {len(corpus)}\")\n",
    "print(corpus[0])"
   ]
  },
  {
   "cell_type": "markdown",
   "id": "f34b1d1f",
   "metadata": {},
   "source": [
    "## Downloading off-the-shelf French word embeddings\n",
    "\n",
    "### Word2Vec (2015)\n",
    "\n",
    "Source: https://fauconnier.github.io/#data\n",
    "\n",
    "1. frWac2Vec\n",
    "    - Trained on the FrWac corpus (1.6 billion words)\n",
    "    - Available in a CBOW & skip-gram, dimensions (200, 500, 700, 1000), and cutoffs (0, 10, 50, 100, 200)\n",
    "\n",
    "2. frWiki2Vec\n",
    "    - Trained on the FrWiki dump (600 millions words)\n",
    "    - Available in a CBOW & skip-gram, dimensions (500, 700, 1000), and cutoffs (10, 100, 200)\n",
    "\n",
    "### Word2Vec (2022)\n",
    "\n",
    "The most recent French Word2Vec embeddings were created by Abdine et al. (2022). \n",
    "\n",
    "1. Two models were trained on a 33GB shuffled portion of the French corpus used to train FlauBERT\n",
    "\n",
    "2. The other two models were trained on the 33GB deduplicated French corpus collected from the web\n",
    "\n",
    "However, the embeddings are only available upon request at http://nlp.polytechnique.fr/#french. I requested them on the 03/04, but did not get a response. The authors use the models from Fauconnier (2015) as the baseline in their experiment. \n",
    "\n",
    "### fastText\n",
    "\n",
    "Source: https://fasttext.cc/docs/en/crawl-vectors.html\n",
    "\n",
    "\"We distribute pre-trained word vectors for 157 languages, trained on Common Crawl and Wikipedia using fastText. These models were trained using CBOW with position-weights, in dimension 300, with character n-grams of length 5, a window of size 5 and 10 negatives. We also distribute three new word analogy datasets, for French, Hindi and Polish.\""
   ]
  },
  {
   "cell_type": "code",
   "execution_count": null,
   "id": "d9408736",
   "metadata": {},
   "outputs": [],
   "source": [
    "# Load the Fauconier (2015) models\n",
    "Fauconnier_url_dict = {\n",
    "    \"frWac_non_lem_200_cbow_cut100_url\": \"https://embeddings.net/embeddings/frWac_non_lem_no_postag_no_phrase_200_cbow_cut100.bin\",\n",
    "    \"frWac_non_lem_200_skipgram_cut100_url\": \"https://embeddings.net/embeddings/frWac_non_lem_no_postag_no_phrase_200_skip_cut100.bin\",\n",
    "    # \"frWac_non_lem_500_skipgram_cut200_url\": \"https://embeddings.net/embeddings/frWac_non_lem_no_postag_no_phrase_500_skip_cut200.bin\",\n",
    "    \"frWiki_non_lem_1000_cbow_cut100_url\": \"https://embeddings.net/embeddings/frWiki_no_lem_no_postag_no_phrase_1000_cbow_cut100.bin\",\n",
    "    \"frWiki_non_lem_1000_skipgram_cut100_url\": \"https://embeddings.net/embeddings/frWiki_no_lem_no_postag_no_phrase_1000_skip_cut100.bin\",\n",
    "}\n",
    "\n",
    "for model_name, model_url in Fauconnier_url_dict.items():\n",
    "    print(f\"Downloading {model_name}...\")\n",
    "    download_word2vec_model(model_url)"
   ]
  }
 ],
 "metadata": {
  "kernelspec": {
   "display_name": "nlp-summative",
   "language": "python",
   "name": "python3"
  },
  "language_info": {
   "codemirror_mode": {
    "name": "ipython",
    "version": 3
   },
   "file_extension": ".py",
   "mimetype": "text/x-python",
   "name": "python",
   "nbconvert_exporter": "python",
   "pygments_lexer": "ipython3",
   "version": "3.10.16"
  }
 },
 "nbformat": 4,
 "nbformat_minor": 5
}
